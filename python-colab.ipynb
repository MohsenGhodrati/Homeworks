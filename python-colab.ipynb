{
  "cells": [
    {
      "cell_type": "markdown",
      "metadata": {
        "id": "dzNng6vCL9eP"
      },
      "source": [
        "#Data Analysis using SEMOPY"
      ]
    },
    {
      "cell_type": "code",
      "source": [
        "!pip install semopy"
      ],
      "metadata": {
        "id": "zr_Y8n_Zgnrv",
        "outputId": "1f8d9998-3724-4670-b090-5a3980eda5a3",
        "colab": {
          "base_uri": "https://localhost:8080/"
        }
      },
      "execution_count": 1,
      "outputs": [
        {
          "output_type": "stream",
          "name": "stdout",
          "text": [
            "Collecting semopy\n",
            "  Downloading semopy-2.3.11.tar.gz (1.6 MB)\n",
            "\u001b[?25l     \u001b[90m━━━━━━━━━━━━━━━━━━━━━━━━━━━━━━━━━━━━━━━━\u001b[0m \u001b[32m0.0/1.6 MB\u001b[0m \u001b[31m?\u001b[0m eta \u001b[36m-:--:--\u001b[0m\r\u001b[2K     \u001b[91m━━━━━━━━━━━━━━━━━━\u001b[0m\u001b[90m╺\u001b[0m\u001b[90m━━━━━━━━━━━━━━━━━━━━━\u001b[0m \u001b[32m0.7/1.6 MB\u001b[0m \u001b[31m21.7 MB/s\u001b[0m eta \u001b[36m0:00:01\u001b[0m\r\u001b[2K     \u001b[91m━━━━━━━━━━━━━━━━━━━━━━━━━━━━━━━━━━━━━━━\u001b[0m\u001b[91m╸\u001b[0m \u001b[32m1.6/1.6 MB\u001b[0m \u001b[31m32.0 MB/s\u001b[0m eta \u001b[36m0:00:01\u001b[0m\r\u001b[2K     \u001b[90m━━━━━━━━━━━━━━━━━━━━━━━━━━━━━━━━━━━━━━━━\u001b[0m \u001b[32m1.6/1.6 MB\u001b[0m \u001b[31m21.4 MB/s\u001b[0m eta \u001b[36m0:00:00\u001b[0m\n",
            "\u001b[?25h  Preparing metadata (setup.py) ... \u001b[?25l\u001b[?25hdone\n",
            "Requirement already satisfied: scipy in /usr/local/lib/python3.10/dist-packages (from semopy) (1.13.1)\n",
            "Requirement already satisfied: numpy in /usr/local/lib/python3.10/dist-packages (from semopy) (1.26.4)\n",
            "Requirement already satisfied: pandas in /usr/local/lib/python3.10/dist-packages (from semopy) (2.2.2)\n",
            "Requirement already satisfied: sympy in /usr/local/lib/python3.10/dist-packages (from semopy) (1.13.1)\n",
            "Requirement already satisfied: scikit-learn in /usr/local/lib/python3.10/dist-packages (from semopy) (1.5.2)\n",
            "Requirement already satisfied: statsmodels in /usr/local/lib/python3.10/dist-packages (from semopy) (0.14.4)\n",
            "Collecting numdifftools (from semopy)\n",
            "  Downloading numdifftools-0.9.41-py2.py3-none-any.whl.metadata (39 kB)\n",
            "Requirement already satisfied: python-dateutil>=2.8.2 in /usr/local/lib/python3.10/dist-packages (from pandas->semopy) (2.8.2)\n",
            "Requirement already satisfied: pytz>=2020.1 in /usr/local/lib/python3.10/dist-packages (from pandas->semopy) (2024.2)\n",
            "Requirement already satisfied: tzdata>=2022.7 in /usr/local/lib/python3.10/dist-packages (from pandas->semopy) (2024.2)\n",
            "Requirement already satisfied: joblib>=1.2.0 in /usr/local/lib/python3.10/dist-packages (from scikit-learn->semopy) (1.4.2)\n",
            "Requirement already satisfied: threadpoolctl>=3.1.0 in /usr/local/lib/python3.10/dist-packages (from scikit-learn->semopy) (3.5.0)\n",
            "Requirement already satisfied: patsy>=0.5.6 in /usr/local/lib/python3.10/dist-packages (from statsmodels->semopy) (0.5.6)\n",
            "Requirement already satisfied: packaging>=21.3 in /usr/local/lib/python3.10/dist-packages (from statsmodels->semopy) (24.1)\n",
            "Requirement already satisfied: mpmath<1.4,>=1.1.0 in /usr/local/lib/python3.10/dist-packages (from sympy->semopy) (1.3.0)\n",
            "Requirement already satisfied: six in /usr/local/lib/python3.10/dist-packages (from patsy>=0.5.6->statsmodels->semopy) (1.16.0)\n",
            "Downloading numdifftools-0.9.41-py2.py3-none-any.whl (100 kB)\n",
            "\u001b[2K   \u001b[90m━━━━━━━━━━━━━━━━━━━━━━━━━━━━━━━━━━━━━━━━\u001b[0m \u001b[32m100.2/100.2 kB\u001b[0m \u001b[31m4.2 MB/s\u001b[0m eta \u001b[36m0:00:00\u001b[0m\n",
            "\u001b[?25hBuilding wheels for collected packages: semopy\n",
            "  Building wheel for semopy (setup.py) ... \u001b[?25l\u001b[?25hdone\n",
            "  Created wheel for semopy: filename=semopy-2.3.11-py3-none-any.whl size=1659681 sha256=06ba2a26f57c0a691ae371131b086e6feab135b1b54be14ec28eb33772fe8283\n",
            "  Stored in directory: /root/.cache/pip/wheels/53/ec/0d/0b294c02d8c4e9e80afea58839f2c1b4706770594bc99ec045\n",
            "Successfully built semopy\n",
            "Installing collected packages: numdifftools, semopy\n",
            "Successfully installed numdifftools-0.9.41 semopy-2.3.11\n"
          ]
        }
      ]
    },
    {
      "cell_type": "code",
      "source": [
        "!pip install pandas"
      ],
      "metadata": {
        "id": "h7NFysDVguIY",
        "outputId": "8eba631b-81d0-4a80-bc8d-9f358322f682",
        "colab": {
          "base_uri": "https://localhost:8080/"
        }
      },
      "execution_count": 2,
      "outputs": [
        {
          "output_type": "stream",
          "name": "stdout",
          "text": [
            "Requirement already satisfied: pandas in /usr/local/lib/python3.10/dist-packages (2.2.2)\n",
            "Requirement already satisfied: numpy>=1.22.4 in /usr/local/lib/python3.10/dist-packages (from pandas) (1.26.4)\n",
            "Requirement already satisfied: python-dateutil>=2.8.2 in /usr/local/lib/python3.10/dist-packages (from pandas) (2.8.2)\n",
            "Requirement already satisfied: pytz>=2020.1 in /usr/local/lib/python3.10/dist-packages (from pandas) (2024.2)\n",
            "Requirement already satisfied: tzdata>=2022.7 in /usr/local/lib/python3.10/dist-packages (from pandas) (2024.2)\n",
            "Requirement already satisfied: six>=1.5 in /usr/local/lib/python3.10/dist-packages (from python-dateutil>=2.8.2->pandas) (1.16.0)\n"
          ]
        }
      ]
    },
    {
      "cell_type": "code",
      "source": [
        "!pip install graphviz"
      ],
      "metadata": {
        "id": "vfhoTI79gyVr",
        "outputId": "a18c72f6-2bc3-447b-8c95-ca48c3e0936d",
        "colab": {
          "base_uri": "https://localhost:8080/"
        }
      },
      "execution_count": 3,
      "outputs": [
        {
          "output_type": "stream",
          "name": "stdout",
          "text": [
            "Requirement already satisfied: graphviz in /usr/local/lib/python3.10/dist-packages (0.20.3)\n"
          ]
        }
      ]
    },
    {
      "cell_type": "code",
      "source": [
        "!pip install pydot"
      ],
      "metadata": {
        "id": "0fH1vXe1iMq3",
        "outputId": "6a591f26-5382-4df6-f3f4-20e6c971eeda",
        "colab": {
          "base_uri": "https://localhost:8080/"
        }
      },
      "execution_count": 4,
      "outputs": [
        {
          "output_type": "stream",
          "name": "stdout",
          "text": [
            "Requirement already satisfied: pydot in /usr/local/lib/python3.10/dist-packages (3.0.2)\n",
            "Requirement already satisfied: pyparsing>=3.0.9 in /usr/local/lib/python3.10/dist-packages (from pydot) (3.2.0)\n"
          ]
        }
      ]
    },
    {
      "cell_type": "code",
      "source": [
        "!pip install librosa"
      ],
      "metadata": {
        "id": "gDUhh1Ovn9g4",
        "outputId": "96dcb745-fb9e-4ad0-e471-22ef81fe9da2",
        "colab": {
          "base_uri": "https://localhost:8080/"
        }
      },
      "execution_count": 5,
      "outputs": [
        {
          "output_type": "stream",
          "name": "stdout",
          "text": [
            "Requirement already satisfied: librosa in /usr/local/lib/python3.10/dist-packages (0.10.2.post1)\n",
            "Requirement already satisfied: audioread>=2.1.9 in /usr/local/lib/python3.10/dist-packages (from librosa) (3.0.1)\n",
            "Requirement already satisfied: numpy!=1.22.0,!=1.22.1,!=1.22.2,>=1.20.3 in /usr/local/lib/python3.10/dist-packages (from librosa) (1.26.4)\n",
            "Requirement already satisfied: scipy>=1.2.0 in /usr/local/lib/python3.10/dist-packages (from librosa) (1.13.1)\n",
            "Requirement already satisfied: scikit-learn>=0.20.0 in /usr/local/lib/python3.10/dist-packages (from librosa) (1.5.2)\n",
            "Requirement already satisfied: joblib>=0.14 in /usr/local/lib/python3.10/dist-packages (from librosa) (1.4.2)\n",
            "Requirement already satisfied: decorator>=4.3.0 in /usr/local/lib/python3.10/dist-packages (from librosa) (4.4.2)\n",
            "Requirement already satisfied: numba>=0.51.0 in /usr/local/lib/python3.10/dist-packages (from librosa) (0.60.0)\n",
            "Requirement already satisfied: soundfile>=0.12.1 in /usr/local/lib/python3.10/dist-packages (from librosa) (0.12.1)\n",
            "Requirement already satisfied: pooch>=1.1 in /usr/local/lib/python3.10/dist-packages (from librosa) (1.8.2)\n",
            "Requirement already satisfied: soxr>=0.3.2 in /usr/local/lib/python3.10/dist-packages (from librosa) (0.5.0.post1)\n",
            "Requirement already satisfied: typing-extensions>=4.1.1 in /usr/local/lib/python3.10/dist-packages (from librosa) (4.12.2)\n",
            "Requirement already satisfied: lazy-loader>=0.1 in /usr/local/lib/python3.10/dist-packages (from librosa) (0.4)\n",
            "Requirement already satisfied: msgpack>=1.0 in /usr/local/lib/python3.10/dist-packages (from librosa) (1.1.0)\n",
            "Requirement already satisfied: packaging in /usr/local/lib/python3.10/dist-packages (from lazy-loader>=0.1->librosa) (24.1)\n",
            "Requirement already satisfied: llvmlite<0.44,>=0.43.0dev0 in /usr/local/lib/python3.10/dist-packages (from numba>=0.51.0->librosa) (0.43.0)\n",
            "Requirement already satisfied: platformdirs>=2.5.0 in /usr/local/lib/python3.10/dist-packages (from pooch>=1.1->librosa) (4.3.6)\n",
            "Requirement already satisfied: requests>=2.19.0 in /usr/local/lib/python3.10/dist-packages (from pooch>=1.1->librosa) (2.32.3)\n",
            "Requirement already satisfied: threadpoolctl>=3.1.0 in /usr/local/lib/python3.10/dist-packages (from scikit-learn>=0.20.0->librosa) (3.5.0)\n",
            "Requirement already satisfied: cffi>=1.0 in /usr/local/lib/python3.10/dist-packages (from soundfile>=0.12.1->librosa) (1.17.1)\n",
            "Requirement already satisfied: pycparser in /usr/local/lib/python3.10/dist-packages (from cffi>=1.0->soundfile>=0.12.1->librosa) (2.22)\n",
            "Requirement already satisfied: charset-normalizer<4,>=2 in /usr/local/lib/python3.10/dist-packages (from requests>=2.19.0->pooch>=1.1->librosa) (3.4.0)\n",
            "Requirement already satisfied: idna<4,>=2.5 in /usr/local/lib/python3.10/dist-packages (from requests>=2.19.0->pooch>=1.1->librosa) (3.10)\n",
            "Requirement already satisfied: urllib3<3,>=1.21.1 in /usr/local/lib/python3.10/dist-packages (from requests>=2.19.0->pooch>=1.1->librosa) (2.2.3)\n",
            "Requirement already satisfied: certifi>=2017.4.17 in /usr/local/lib/python3.10/dist-packages (from requests>=2.19.0->pooch>=1.1->librosa) (2024.8.30)\n"
          ]
        }
      ]
    },
    {
      "cell_type": "code",
      "source": [
        "import semopy\n",
        "import pandas as pd\n",
        "from google.colab import files"
      ],
      "metadata": {
        "id": "0cHMf0EHgWLh"
      },
      "execution_count": 6,
      "outputs": []
    },
    {
      "cell_type": "code",
      "source": [
        "df = pd.read_excel(\"Table Report.xlsx\")\n",
        "data_labels = {\n",
        "    'q01': '۱۳. محصولات لوازم خانگی برند اسنوا ظاهری جذاب دارند',\n",
        "    'q02': '۱۴. برند اسنوا نشان دهنده شخصیت من ایرانی است.',\n",
        "    'q03': '۱۵. لوازم خانگی برند اسنوا به تولید محصولات به روز و بادوام تعهد دارد.',\n",
        "    'q04': '۱۶. وقتی تبلیغات اسنوا را می بینم به آن فکر می کنم.',\n",
        "    'q05': '۱۷. وقتی از لوازم خانگی برند اسنوا استفاده می­کنم احساس مثبتی دارم.',\n",
        "    'q06': '۱۸. استفاده از لوازم خانگی اسنوا مرا خوشحال می کند.',\n",
        "    'q07': '۱۹. محصولات اسنوا اولین انتخاب من خواهد بود.',\n",
        "    'q08': '۲۰. اگر محصولات اسنوا در دسترس باشد، از لوازم خانگی دیگری خرید نخواهم کرد.',\n",
        "    'q09': '۲۱. لوازم خانگی برند اسنوا قیمت معقولی دارد.',\n",
        "    'q10': '۲۲. نحوه استفاده از محصولات لوازم خانگی برند اسنوا آسان است.',\n",
        "    'q11': '۲۳. لوازم خانگی اسنوا متناسب با نیازهای من ساخته شده اند.',\n",
        "    'q12': '۲۴. لوازم خانگی اسنوا با کیفیت اند.',\n",
        "    'q13': '۲۵. خدمات پس از فروش لوازم خانگی اسنوا به موقع است.'\n",
        "}\n",
        "response_labels = {\n",
        "    'خیلی کم': 1,\n",
        "    'کم': 2,\n",
        "    'متوسط': 3,\n",
        "    'زیاد': 4,\n",
        "    'خیلی زیاد': 5\n",
        "}\n",
        "data = pd.DataFrame()\n",
        "for q in range(1, 14):\n",
        "    data[f'q{q:02d}'] = df[data_labels[f'q{q:02d}']]\n",
        "data.dropna(inplace=True)\n",
        "for k in response_labels.keys():\n",
        "    data.replace(k, response_labels[k], inplace=True)\n",
        "data = data.astype(float)\n",
        "# todo: brand, area, reason to use, reason not to use >> need processing\n",
        "data[\"gender\"] = df['۱. جنسیت:............................'][1:]\n",
        "data[\"age\"] = df['۲. سن'][1:]\n",
        "data[\"education\"] = df['۳. تحصیلات'][1:]\n",
        "data[\"area\"] = df['۴. در کدام منطقه زندگی می کنید؟'][1:]\n",
        "data[\"salary\"] = df['۵. درآمد'][1:]\n",
        "data[\"purchased\"] = df['۸. آیا تاکنون از برند لوازم خانگی اسنوا خرید کرده اید؟'][1:]\n",
        "data[\"brand\"] = df['۶. از لوازم خانگی با چه برندی استفاده می کنید؟'][1:]\n",
        "data"
      ],
      "metadata": {
        "colab": {
          "base_uri": "https://localhost:8080/",
          "height": 478
        },
        "id": "Hm4OlXaIhDn2",
        "outputId": "897ad873-d58d-43b0-e74b-ce0be45692cb"
      },
      "execution_count": 51,
      "outputs": [
        {
          "output_type": "stream",
          "name": "stderr",
          "text": [
            "<ipython-input-51-aef0129547c1>:29: FutureWarning: Downcasting behavior in `replace` is deprecated and will be removed in a future version. To retain the old behavior, explicitly call `result.infer_objects(copy=False)`. To opt-in to the future behavior, set `pd.set_option('future.no_silent_downcasting', True)`\n",
            "  data.replace(k, response_labels[k], inplace=True)\n"
          ]
        },
        {
          "output_type": "execute_result",
          "data": {
            "text/plain": [
              "     q01  q02  q03  q04  q05  q06  q07  q08  q09  q10  q11  q12  q13 gender\n",
              "1    4.0  3.0  3.0  4.0  3.0  3.0  4.0  3.0  4.0  5.0  4.0  3.0  5.0     زن\n",
              "2    3.0  4.0  4.0  3.0  4.0  3.0  3.0  3.0  4.0  4.0  4.0  4.0  4.0    مرد\n",
              "3    4.0  1.0  2.0  1.0  2.0  1.0  1.0  2.0  3.0  2.0  3.0  3.0  3.0    مرد\n",
              "4    4.0  4.0  3.0  4.0  3.0  3.0  3.0  4.0  4.0  3.0  4.0  3.0  3.0    مرد\n",
              "5    4.0  5.0  5.0  2.0  2.0  5.0  5.0  4.0  3.0  2.0  2.0  2.0  3.0    مرد\n",
              "..   ...  ...  ...  ...  ...  ...  ...  ...  ...  ...  ...  ...  ...    ...\n",
              "403  5.0  5.0  3.0  4.0  5.0  5.0  4.0  4.0  4.0  4.0  4.0  4.0  4.0     زن\n",
              "404  4.0  4.0  3.0  4.0  4.0  4.0  3.0  3.0  4.0  5.0  5.0  4.0  3.0     زن\n",
              "405  3.0  4.0  3.0  3.0  3.0  3.0  3.0  3.0  4.0  4.0  4.0  3.0  2.0     زن\n",
              "406  2.0  3.0  2.0  1.0  2.0  2.0  1.0  1.0  3.0  3.0  3.0  2.0  3.0    مرد\n",
              "407  3.0  3.0  2.0  3.0  4.0  4.0  3.0  3.0  4.0  4.0  4.0  3.0  3.0    مرد\n",
              "\n",
              "[407 rows x 14 columns]"
            ],
            "text/html": [
              "\n",
              "  <div id=\"df-5f4184d3-5850-4fe4-8f0c-090c6f8fb2a7\" class=\"colab-df-container\">\n",
              "    <div>\n",
              "<style scoped>\n",
              "    .dataframe tbody tr th:only-of-type {\n",
              "        vertical-align: middle;\n",
              "    }\n",
              "\n",
              "    .dataframe tbody tr th {\n",
              "        vertical-align: top;\n",
              "    }\n",
              "\n",
              "    .dataframe thead th {\n",
              "        text-align: right;\n",
              "    }\n",
              "</style>\n",
              "<table border=\"1\" class=\"dataframe\">\n",
              "  <thead>\n",
              "    <tr style=\"text-align: right;\">\n",
              "      <th></th>\n",
              "      <th>q01</th>\n",
              "      <th>q02</th>\n",
              "      <th>q03</th>\n",
              "      <th>q04</th>\n",
              "      <th>q05</th>\n",
              "      <th>q06</th>\n",
              "      <th>q07</th>\n",
              "      <th>q08</th>\n",
              "      <th>q09</th>\n",
              "      <th>q10</th>\n",
              "      <th>q11</th>\n",
              "      <th>q12</th>\n",
              "      <th>q13</th>\n",
              "      <th>gender</th>\n",
              "    </tr>\n",
              "  </thead>\n",
              "  <tbody>\n",
              "    <tr>\n",
              "      <th>1</th>\n",
              "      <td>4.0</td>\n",
              "      <td>3.0</td>\n",
              "      <td>3.0</td>\n",
              "      <td>4.0</td>\n",
              "      <td>3.0</td>\n",
              "      <td>3.0</td>\n",
              "      <td>4.0</td>\n",
              "      <td>3.0</td>\n",
              "      <td>4.0</td>\n",
              "      <td>5.0</td>\n",
              "      <td>4.0</td>\n",
              "      <td>3.0</td>\n",
              "      <td>5.0</td>\n",
              "      <td>زن</td>\n",
              "    </tr>\n",
              "    <tr>\n",
              "      <th>2</th>\n",
              "      <td>3.0</td>\n",
              "      <td>4.0</td>\n",
              "      <td>4.0</td>\n",
              "      <td>3.0</td>\n",
              "      <td>4.0</td>\n",
              "      <td>3.0</td>\n",
              "      <td>3.0</td>\n",
              "      <td>3.0</td>\n",
              "      <td>4.0</td>\n",
              "      <td>4.0</td>\n",
              "      <td>4.0</td>\n",
              "      <td>4.0</td>\n",
              "      <td>4.0</td>\n",
              "      <td>مرد</td>\n",
              "    </tr>\n",
              "    <tr>\n",
              "      <th>3</th>\n",
              "      <td>4.0</td>\n",
              "      <td>1.0</td>\n",
              "      <td>2.0</td>\n",
              "      <td>1.0</td>\n",
              "      <td>2.0</td>\n",
              "      <td>1.0</td>\n",
              "      <td>1.0</td>\n",
              "      <td>2.0</td>\n",
              "      <td>3.0</td>\n",
              "      <td>2.0</td>\n",
              "      <td>3.0</td>\n",
              "      <td>3.0</td>\n",
              "      <td>3.0</td>\n",
              "      <td>مرد</td>\n",
              "    </tr>\n",
              "    <tr>\n",
              "      <th>4</th>\n",
              "      <td>4.0</td>\n",
              "      <td>4.0</td>\n",
              "      <td>3.0</td>\n",
              "      <td>4.0</td>\n",
              "      <td>3.0</td>\n",
              "      <td>3.0</td>\n",
              "      <td>3.0</td>\n",
              "      <td>4.0</td>\n",
              "      <td>4.0</td>\n",
              "      <td>3.0</td>\n",
              "      <td>4.0</td>\n",
              "      <td>3.0</td>\n",
              "      <td>3.0</td>\n",
              "      <td>مرد</td>\n",
              "    </tr>\n",
              "    <tr>\n",
              "      <th>5</th>\n",
              "      <td>4.0</td>\n",
              "      <td>5.0</td>\n",
              "      <td>5.0</td>\n",
              "      <td>2.0</td>\n",
              "      <td>2.0</td>\n",
              "      <td>5.0</td>\n",
              "      <td>5.0</td>\n",
              "      <td>4.0</td>\n",
              "      <td>3.0</td>\n",
              "      <td>2.0</td>\n",
              "      <td>2.0</td>\n",
              "      <td>2.0</td>\n",
              "      <td>3.0</td>\n",
              "      <td>مرد</td>\n",
              "    </tr>\n",
              "    <tr>\n",
              "      <th>...</th>\n",
              "      <td>...</td>\n",
              "      <td>...</td>\n",
              "      <td>...</td>\n",
              "      <td>...</td>\n",
              "      <td>...</td>\n",
              "      <td>...</td>\n",
              "      <td>...</td>\n",
              "      <td>...</td>\n",
              "      <td>...</td>\n",
              "      <td>...</td>\n",
              "      <td>...</td>\n",
              "      <td>...</td>\n",
              "      <td>...</td>\n",
              "      <td>...</td>\n",
              "    </tr>\n",
              "    <tr>\n",
              "      <th>403</th>\n",
              "      <td>5.0</td>\n",
              "      <td>5.0</td>\n",
              "      <td>3.0</td>\n",
              "      <td>4.0</td>\n",
              "      <td>5.0</td>\n",
              "      <td>5.0</td>\n",
              "      <td>4.0</td>\n",
              "      <td>4.0</td>\n",
              "      <td>4.0</td>\n",
              "      <td>4.0</td>\n",
              "      <td>4.0</td>\n",
              "      <td>4.0</td>\n",
              "      <td>4.0</td>\n",
              "      <td>زن</td>\n",
              "    </tr>\n",
              "    <tr>\n",
              "      <th>404</th>\n",
              "      <td>4.0</td>\n",
              "      <td>4.0</td>\n",
              "      <td>3.0</td>\n",
              "      <td>4.0</td>\n",
              "      <td>4.0</td>\n",
              "      <td>4.0</td>\n",
              "      <td>3.0</td>\n",
              "      <td>3.0</td>\n",
              "      <td>4.0</td>\n",
              "      <td>5.0</td>\n",
              "      <td>5.0</td>\n",
              "      <td>4.0</td>\n",
              "      <td>3.0</td>\n",
              "      <td>زن</td>\n",
              "    </tr>\n",
              "    <tr>\n",
              "      <th>405</th>\n",
              "      <td>3.0</td>\n",
              "      <td>4.0</td>\n",
              "      <td>3.0</td>\n",
              "      <td>3.0</td>\n",
              "      <td>3.0</td>\n",
              "      <td>3.0</td>\n",
              "      <td>3.0</td>\n",
              "      <td>3.0</td>\n",
              "      <td>4.0</td>\n",
              "      <td>4.0</td>\n",
              "      <td>4.0</td>\n",
              "      <td>3.0</td>\n",
              "      <td>2.0</td>\n",
              "      <td>زن</td>\n",
              "    </tr>\n",
              "    <tr>\n",
              "      <th>406</th>\n",
              "      <td>2.0</td>\n",
              "      <td>3.0</td>\n",
              "      <td>2.0</td>\n",
              "      <td>1.0</td>\n",
              "      <td>2.0</td>\n",
              "      <td>2.0</td>\n",
              "      <td>1.0</td>\n",
              "      <td>1.0</td>\n",
              "      <td>3.0</td>\n",
              "      <td>3.0</td>\n",
              "      <td>3.0</td>\n",
              "      <td>2.0</td>\n",
              "      <td>3.0</td>\n",
              "      <td>مرد</td>\n",
              "    </tr>\n",
              "    <tr>\n",
              "      <th>407</th>\n",
              "      <td>3.0</td>\n",
              "      <td>3.0</td>\n",
              "      <td>2.0</td>\n",
              "      <td>3.0</td>\n",
              "      <td>4.0</td>\n",
              "      <td>4.0</td>\n",
              "      <td>3.0</td>\n",
              "      <td>3.0</td>\n",
              "      <td>4.0</td>\n",
              "      <td>4.0</td>\n",
              "      <td>4.0</td>\n",
              "      <td>3.0</td>\n",
              "      <td>3.0</td>\n",
              "      <td>مرد</td>\n",
              "    </tr>\n",
              "  </tbody>\n",
              "</table>\n",
              "<p>407 rows × 14 columns</p>\n",
              "</div>\n",
              "    <div class=\"colab-df-buttons\">\n",
              "\n",
              "  <div class=\"colab-df-container\">\n",
              "    <button class=\"colab-df-convert\" onclick=\"convertToInteractive('df-5f4184d3-5850-4fe4-8f0c-090c6f8fb2a7')\"\n",
              "            title=\"Convert this dataframe to an interactive table.\"\n",
              "            style=\"display:none;\">\n",
              "\n",
              "  <svg xmlns=\"http://www.w3.org/2000/svg\" height=\"24px\" viewBox=\"0 -960 960 960\">\n",
              "    <path d=\"M120-120v-720h720v720H120Zm60-500h600v-160H180v160Zm220 220h160v-160H400v160Zm0 220h160v-160H400v160ZM180-400h160v-160H180v160Zm440 0h160v-160H620v160ZM180-180h160v-160H180v160Zm440 0h160v-160H620v160Z\"/>\n",
              "  </svg>\n",
              "    </button>\n",
              "\n",
              "  <style>\n",
              "    .colab-df-container {\n",
              "      display:flex;\n",
              "      gap: 12px;\n",
              "    }\n",
              "\n",
              "    .colab-df-convert {\n",
              "      background-color: #E8F0FE;\n",
              "      border: none;\n",
              "      border-radius: 50%;\n",
              "      cursor: pointer;\n",
              "      display: none;\n",
              "      fill: #1967D2;\n",
              "      height: 32px;\n",
              "      padding: 0 0 0 0;\n",
              "      width: 32px;\n",
              "    }\n",
              "\n",
              "    .colab-df-convert:hover {\n",
              "      background-color: #E2EBFA;\n",
              "      box-shadow: 0px 1px 2px rgba(60, 64, 67, 0.3), 0px 1px 3px 1px rgba(60, 64, 67, 0.15);\n",
              "      fill: #174EA6;\n",
              "    }\n",
              "\n",
              "    .colab-df-buttons div {\n",
              "      margin-bottom: 4px;\n",
              "    }\n",
              "\n",
              "    [theme=dark] .colab-df-convert {\n",
              "      background-color: #3B4455;\n",
              "      fill: #D2E3FC;\n",
              "    }\n",
              "\n",
              "    [theme=dark] .colab-df-convert:hover {\n",
              "      background-color: #434B5C;\n",
              "      box-shadow: 0px 1px 3px 1px rgba(0, 0, 0, 0.15);\n",
              "      filter: drop-shadow(0px 1px 2px rgba(0, 0, 0, 0.3));\n",
              "      fill: #FFFFFF;\n",
              "    }\n",
              "  </style>\n",
              "\n",
              "    <script>\n",
              "      const buttonEl =\n",
              "        document.querySelector('#df-5f4184d3-5850-4fe4-8f0c-090c6f8fb2a7 button.colab-df-convert');\n",
              "      buttonEl.style.display =\n",
              "        google.colab.kernel.accessAllowed ? 'block' : 'none';\n",
              "\n",
              "      async function convertToInteractive(key) {\n",
              "        const element = document.querySelector('#df-5f4184d3-5850-4fe4-8f0c-090c6f8fb2a7');\n",
              "        const dataTable =\n",
              "          await google.colab.kernel.invokeFunction('convertToInteractive',\n",
              "                                                    [key], {});\n",
              "        if (!dataTable) return;\n",
              "\n",
              "        const docLinkHtml = 'Like what you see? Visit the ' +\n",
              "          '<a target=\"_blank\" href=https://colab.research.google.com/notebooks/data_table.ipynb>data table notebook</a>'\n",
              "          + ' to learn more about interactive tables.';\n",
              "        element.innerHTML = '';\n",
              "        dataTable['output_type'] = 'display_data';\n",
              "        await google.colab.output.renderOutput(dataTable, element);\n",
              "        const docLink = document.createElement('div');\n",
              "        docLink.innerHTML = docLinkHtml;\n",
              "        element.appendChild(docLink);\n",
              "      }\n",
              "    </script>\n",
              "  </div>\n",
              "\n",
              "\n",
              "<div id=\"df-217c8769-ec80-4790-b25a-d105866252bc\">\n",
              "  <button class=\"colab-df-quickchart\" onclick=\"quickchart('df-217c8769-ec80-4790-b25a-d105866252bc')\"\n",
              "            title=\"Suggest charts\"\n",
              "            style=\"display:none;\">\n",
              "\n",
              "<svg xmlns=\"http://www.w3.org/2000/svg\" height=\"24px\"viewBox=\"0 0 24 24\"\n",
              "     width=\"24px\">\n",
              "    <g>\n",
              "        <path d=\"M19 3H5c-1.1 0-2 .9-2 2v14c0 1.1.9 2 2 2h14c1.1 0 2-.9 2-2V5c0-1.1-.9-2-2-2zM9 17H7v-7h2v7zm4 0h-2V7h2v10zm4 0h-2v-4h2v4z\"/>\n",
              "    </g>\n",
              "</svg>\n",
              "  </button>\n",
              "\n",
              "<style>\n",
              "  .colab-df-quickchart {\n",
              "      --bg-color: #E8F0FE;\n",
              "      --fill-color: #1967D2;\n",
              "      --hover-bg-color: #E2EBFA;\n",
              "      --hover-fill-color: #174EA6;\n",
              "      --disabled-fill-color: #AAA;\n",
              "      --disabled-bg-color: #DDD;\n",
              "  }\n",
              "\n",
              "  [theme=dark] .colab-df-quickchart {\n",
              "      --bg-color: #3B4455;\n",
              "      --fill-color: #D2E3FC;\n",
              "      --hover-bg-color: #434B5C;\n",
              "      --hover-fill-color: #FFFFFF;\n",
              "      --disabled-bg-color: #3B4455;\n",
              "      --disabled-fill-color: #666;\n",
              "  }\n",
              "\n",
              "  .colab-df-quickchart {\n",
              "    background-color: var(--bg-color);\n",
              "    border: none;\n",
              "    border-radius: 50%;\n",
              "    cursor: pointer;\n",
              "    display: none;\n",
              "    fill: var(--fill-color);\n",
              "    height: 32px;\n",
              "    padding: 0;\n",
              "    width: 32px;\n",
              "  }\n",
              "\n",
              "  .colab-df-quickchart:hover {\n",
              "    background-color: var(--hover-bg-color);\n",
              "    box-shadow: 0 1px 2px rgba(60, 64, 67, 0.3), 0 1px 3px 1px rgba(60, 64, 67, 0.15);\n",
              "    fill: var(--button-hover-fill-color);\n",
              "  }\n",
              "\n",
              "  .colab-df-quickchart-complete:disabled,\n",
              "  .colab-df-quickchart-complete:disabled:hover {\n",
              "    background-color: var(--disabled-bg-color);\n",
              "    fill: var(--disabled-fill-color);\n",
              "    box-shadow: none;\n",
              "  }\n",
              "\n",
              "  .colab-df-spinner {\n",
              "    border: 2px solid var(--fill-color);\n",
              "    border-color: transparent;\n",
              "    border-bottom-color: var(--fill-color);\n",
              "    animation:\n",
              "      spin 1s steps(1) infinite;\n",
              "  }\n",
              "\n",
              "  @keyframes spin {\n",
              "    0% {\n",
              "      border-color: transparent;\n",
              "      border-bottom-color: var(--fill-color);\n",
              "      border-left-color: var(--fill-color);\n",
              "    }\n",
              "    20% {\n",
              "      border-color: transparent;\n",
              "      border-left-color: var(--fill-color);\n",
              "      border-top-color: var(--fill-color);\n",
              "    }\n",
              "    30% {\n",
              "      border-color: transparent;\n",
              "      border-left-color: var(--fill-color);\n",
              "      border-top-color: var(--fill-color);\n",
              "      border-right-color: var(--fill-color);\n",
              "    }\n",
              "    40% {\n",
              "      border-color: transparent;\n",
              "      border-right-color: var(--fill-color);\n",
              "      border-top-color: var(--fill-color);\n",
              "    }\n",
              "    60% {\n",
              "      border-color: transparent;\n",
              "      border-right-color: var(--fill-color);\n",
              "    }\n",
              "    80% {\n",
              "      border-color: transparent;\n",
              "      border-right-color: var(--fill-color);\n",
              "      border-bottom-color: var(--fill-color);\n",
              "    }\n",
              "    90% {\n",
              "      border-color: transparent;\n",
              "      border-bottom-color: var(--fill-color);\n",
              "    }\n",
              "  }\n",
              "</style>\n",
              "\n",
              "  <script>\n",
              "    async function quickchart(key) {\n",
              "      const quickchartButtonEl =\n",
              "        document.querySelector('#' + key + ' button');\n",
              "      quickchartButtonEl.disabled = true;  // To prevent multiple clicks.\n",
              "      quickchartButtonEl.classList.add('colab-df-spinner');\n",
              "      try {\n",
              "        const charts = await google.colab.kernel.invokeFunction(\n",
              "            'suggestCharts', [key], {});\n",
              "      } catch (error) {\n",
              "        console.error('Error during call to suggestCharts:', error);\n",
              "      }\n",
              "      quickchartButtonEl.classList.remove('colab-df-spinner');\n",
              "      quickchartButtonEl.classList.add('colab-df-quickchart-complete');\n",
              "    }\n",
              "    (() => {\n",
              "      let quickchartButtonEl =\n",
              "        document.querySelector('#df-217c8769-ec80-4790-b25a-d105866252bc button');\n",
              "      quickchartButtonEl.style.display =\n",
              "        google.colab.kernel.accessAllowed ? 'block' : 'none';\n",
              "    })();\n",
              "  </script>\n",
              "</div>\n",
              "    </div>\n",
              "  </div>\n"
            ],
            "application/vnd.google.colaboratory.intrinsic+json": {
              "type": "dataframe",
              "variable_name": "data",
              "summary": "{\n  \"name\": \"data\",\n  \"rows\": 407,\n  \"fields\": [\n    {\n      \"column\": \"q01\",\n      \"properties\": {\n        \"dtype\": \"number\",\n        \"std\": 0.8351201075158695,\n        \"min\": 1.0,\n        \"max\": 5.0,\n        \"num_unique_values\": 5,\n        \"samples\": [\n          3.0,\n          1.0,\n          2.0\n        ],\n        \"semantic_type\": \"\",\n        \"description\": \"\"\n      }\n    },\n    {\n      \"column\": \"q02\",\n      \"properties\": {\n        \"dtype\": \"number\",\n        \"std\": 1.1221388523811122,\n        \"min\": 1.0,\n        \"max\": 5.0,\n        \"num_unique_values\": 5,\n        \"samples\": [\n          4.0,\n          2.0,\n          1.0\n        ],\n        \"semantic_type\": \"\",\n        \"description\": \"\"\n      }\n    },\n    {\n      \"column\": \"q03\",\n      \"properties\": {\n        \"dtype\": \"number\",\n        \"std\": 1.002731651086899,\n        \"min\": 1.0,\n        \"max\": 5.0,\n        \"num_unique_values\": 5,\n        \"samples\": [\n          4.0,\n          1.0,\n          2.0\n        ],\n        \"semantic_type\": \"\",\n        \"description\": \"\"\n      }\n    },\n    {\n      \"column\": \"q04\",\n      \"properties\": {\n        \"dtype\": \"number\",\n        \"std\": 1.2984046695289913,\n        \"min\": 1.0,\n        \"max\": 5.0,\n        \"num_unique_values\": 5,\n        \"samples\": [\n          3.0,\n          5.0,\n          1.0\n        ],\n        \"semantic_type\": \"\",\n        \"description\": \"\"\n      }\n    },\n    {\n      \"column\": \"q05\",\n      \"properties\": {\n        \"dtype\": \"number\",\n        \"std\": 1.1226834164275787,\n        \"min\": 1.0,\n        \"max\": 5.0,\n        \"num_unique_values\": 5,\n        \"samples\": [\n          4.0,\n          1.0,\n          2.0\n        ],\n        \"semantic_type\": \"\",\n        \"description\": \"\"\n      }\n    },\n    {\n      \"column\": \"q06\",\n      \"properties\": {\n        \"dtype\": \"number\",\n        \"std\": 1.154709273266349,\n        \"min\": 1.0,\n        \"max\": 5.0,\n        \"num_unique_values\": 5,\n        \"samples\": [\n          1.0,\n          4.0,\n          5.0\n        ],\n        \"semantic_type\": \"\",\n        \"description\": \"\"\n      }\n    },\n    {\n      \"column\": \"q07\",\n      \"properties\": {\n        \"dtype\": \"number\",\n        \"std\": 1.2596488565817272,\n        \"min\": 1.0,\n        \"max\": 5.0,\n        \"num_unique_values\": 5,\n        \"samples\": [\n          3.0,\n          2.0,\n          1.0\n        ],\n        \"semantic_type\": \"\",\n        \"description\": \"\"\n      }\n    },\n    {\n      \"column\": \"q08\",\n      \"properties\": {\n        \"dtype\": \"number\",\n        \"std\": 1.237121845860359,\n        \"min\": 1.0,\n        \"max\": 5.0,\n        \"num_unique_values\": 5,\n        \"samples\": [\n          2.0,\n          1.0,\n          4.0\n        ],\n        \"semantic_type\": \"\",\n        \"description\": \"\"\n      }\n    },\n    {\n      \"column\": \"q09\",\n      \"properties\": {\n        \"dtype\": \"number\",\n        \"std\": 0.9511621609555339,\n        \"min\": 1.0,\n        \"max\": 5.0,\n        \"num_unique_values\": 5,\n        \"samples\": [\n          3.0,\n          1.0,\n          5.0\n        ],\n        \"semantic_type\": \"\",\n        \"description\": \"\"\n      }\n    },\n    {\n      \"column\": \"q10\",\n      \"properties\": {\n        \"dtype\": \"number\",\n        \"std\": 0.8424001338438003,\n        \"min\": 2.0,\n        \"max\": 5.0,\n        \"num_unique_values\": 4,\n        \"samples\": [\n          4.0,\n          3.0,\n          5.0\n        ],\n        \"semantic_type\": \"\",\n        \"description\": \"\"\n      }\n    },\n    {\n      \"column\": \"q11\",\n      \"properties\": {\n        \"dtype\": \"number\",\n        \"std\": 0.9570988952812789,\n        \"min\": 1.0,\n        \"max\": 5.0,\n        \"num_unique_values\": 5,\n        \"samples\": [\n          3.0,\n          1.0,\n          2.0\n        ],\n        \"semantic_type\": \"\",\n        \"description\": \"\"\n      }\n    },\n    {\n      \"column\": \"q12\",\n      \"properties\": {\n        \"dtype\": \"number\",\n        \"std\": 1.0700634400470905,\n        \"min\": 1.0,\n        \"max\": 5.0,\n        \"num_unique_values\": 5,\n        \"samples\": [\n          4.0,\n          1.0,\n          2.0\n        ],\n        \"semantic_type\": \"\",\n        \"description\": \"\"\n      }\n    },\n    {\n      \"column\": \"q13\",\n      \"properties\": {\n        \"dtype\": \"number\",\n        \"std\": 1.0119294253712563,\n        \"min\": 1.0,\n        \"max\": 5.0,\n        \"num_unique_values\": 5,\n        \"samples\": [\n          4.0,\n          1.0,\n          3.0\n        ],\n        \"semantic_type\": \"\",\n        \"description\": \"\"\n      }\n    },\n    {\n      \"column\": \"gender\",\n      \"properties\": {\n        \"dtype\": \"category\",\n        \"num_unique_values\": 2,\n        \"samples\": [\n          \"\\u0645\\u0631\\u062f\",\n          \"\\u0632\\u0646\"\n        ],\n        \"semantic_type\": \"\",\n        \"description\": \"\"\n      }\n    }\n  ]\n}"
            }
          },
          "metadata": {},
          "execution_count": 51
        }
      ]
    },
    {
      "cell_type": "code",
      "source": [
        "df.columns"
      ],
      "metadata": {
        "id": "LGfhicXANXNo",
        "outputId": "d566b489-0637-46a1-8bbf-9340fa00608c",
        "colab": {
          "base_uri": "https://localhost:8080/"
        }
      },
      "execution_count": 53,
      "outputs": [
        {
          "output_type": "execute_result",
          "data": {
            "text/plain": [
              "Index(['شماره پاسخ‌دهنده', 'نشانی IP', 'تاریخ تکمیل', 'زمان پاسخ‌گویی',\n",
              "       '۱. جنسیت:............................', '۲. سن', '۳. تحصیلات',\n",
              "       '۴. در کدام منطقه زندگی می کنید؟', 'Unnamed: 8', '۵. درآمد',\n",
              "       '۶. از لوازم خانگی با چه برندی استفاده می کنید؟', 'Unnamed: 11',\n",
              "       '۷. با لوازم خانگی برند اسنوا آشنایی دارید؟',\n",
              "       '۸. آیا تاکنون از برند لوازم خانگی اسنوا خرید کرده اید؟',\n",
              "       '۹. اگر از برند اسنوا استفاده می کنید چرا؟ دلیل را کوتاه بنویسید.',\n",
              "       'Unnamed: 15',\n",
              "       '۱۰. اگر از برند اسنوا استفاده نمی کنید چرا؟ دلیل استفاده نکردن را کوتاه بنویسید.',\n",
              "       'Unnamed: 17', '۱۱. چه محصولی از اسنوا را تاکنون خرید  کرده اید؟',\n",
              "       '۱۲. چه زمانی از محصولات اسنوا خرید کرده اید؟',\n",
              "       '۱۳. محصولات لوازم خانگی برند اسنوا ظاهری جذاب دارند',\n",
              "       '۱۴. برند اسنوا نشان دهنده شخصیت من ایرانی است.',\n",
              "       '۱۵. لوازم خانگی برند اسنوا به تولید محصولات به روز و بادوام تعهد دارد.',\n",
              "       '۱۶. وقتی تبلیغات اسنوا را می بینم به آن فکر می کنم.',\n",
              "       '۱۷. وقتی از لوازم خانگی برند اسنوا استفاده می­کنم احساس مثبتی دارم.',\n",
              "       '۱۸. استفاده از لوازم خانگی اسنوا مرا خوشحال می کند.',\n",
              "       '۱۹. محصولات اسنوا اولین انتخاب من خواهد بود.',\n",
              "       '۲۰. اگر محصولات اسنوا در دسترس باشد، از لوازم خانگی دیگری خرید نخواهم کرد.',\n",
              "       '۲۱. لوازم خانگی برند اسنوا قیمت معقولی دارد.',\n",
              "       '۲۲. نحوه استفاده از محصولات لوازم خانگی برند اسنوا آسان است.',\n",
              "       '۲۳. لوازم خانگی اسنوا متناسب با نیازهای من ساخته شده اند.',\n",
              "       '۲۴. لوازم خانگی اسنوا با کیفیت اند.',\n",
              "       '۲۵. خدمات پس از فروش لوازم خانگی اسنوا به موقع است.'],\n",
              "      dtype='object')"
            ]
          },
          "metadata": {},
          "execution_count": 53
        }
      ]
    },
    {
      "cell_type": "code",
      "source": [
        "def analyze(obj=\"GLS\", groups=None, plot=True, download=True):\n",
        "    desc_labels = {\n",
        "        'x1': 'درگیرسازی مشتری',\n",
        "        'x2': 'خوداظهاری برند',\n",
        "        'x3': 'پردازش شناختی',\n",
        "        'x4': 'اثرگذاری عاطفی',\n",
        "        'x5': 'ارزش آفرینی مشتری برای برند',\n",
        "        'x6': 'کیفیت ادراک شده',\n",
        "        'x7': 'ادراک احساسی',\n",
        "        'x8': 'قیمت',\n",
        "        'y': 'رضایت مشتری'\n",
        "    }\n",
        "    with pd.ExcelWriter(f\"/content/result_{obj}.xlsx\") as writer:\n",
        "        for target_latent_variable in range(1, 9):\n",
        "            desc = \\\n",
        "                '# measurement model\\n' + \\\n",
        "                'x1 =~ q06\\n' + \\\n",
        "                'x2 =~ q02 + q03\\n' + \\\n",
        "                'x3 =~ q04\\n' + \\\n",
        "                'x4 =~ q05\\n' + \\\n",
        "                'x5 =~ q11\\n' + \\\n",
        "                'x6 =~ q12 + q13\\n' + \\\n",
        "                'x7 =~ q01 + q10\\n' + \\\n",
        "                'x8 =~ q09\\n' + \\\n",
        "                'y =~ q07 + q08\\n' + \\\n",
        "                '# regressions\\n' + \\\n",
        "                f'y ~ x{target_latent_variable}\\n' + \\\n",
        "                '# residual correlations\\n'\n",
        "            for i in range(1,9):\n",
        "                if i != target_latent_variable:\n",
        "                    desc += f'x{target_latent_variable} ~~ x{i}\\n'\n",
        "                # 'y ~ x1 + x2 + x3 + x4 + x5 + x6 + x7 + x8\\n'\n",
        "            model = semopy.Model(desc)\n",
        "            fit_result = model.fit(data, obj=obj, groups=groups)\n",
        "            print(fit_result)\n",
        "            inspect_result = model.inspect()\n",
        "            if plot:\n",
        "                g = semopy.semplot(model, f\"result_{obj}_{desc_labels['x' + f'{target_latent_variable}']}.png\", plot_covs=True)\n",
        "                if download:\n",
        "                    files.download(f\"/content/result_{obj}_{desc_labels['x' + f'{target_latent_variable}']}.png\")\n",
        "            for label in ['l', 'r']:\n",
        "                inspect_result[f\"{label}val label\"] = inspect_result[f\"{label}val\"]\n",
        "                inspect_result[f\"{label}val label\"] = inspect_result[f\"{label}val label\"].apply(\n",
        "                    lambda x: desc_labels[x] if x in desc_labels.keys() else data_labels[x][4:] if x in data_labels.keys() else None)\n",
        "\n",
        "            inspect_result.to_excel(writer, sheet_name=f\"{desc_labels['x' + f'{target_latent_variable}']}\", index=False)\n",
        "\n",
        "            semopy.report(model, f\"report_result_{obj}_{desc_labels['x' + f'{target_latent_variable}']}\")\n",
        "            if download:\n",
        "                !zip -r \"/content/report_result_{obj}_{desc_labels['x' + f'{target_latent_variable}']}.zip\" \"/content/report_result_{obj}_{desc_labels['x' + f'{target_latent_variable}']}\"\n",
        "                files.download(f\"/content/report_result_{obj}_{desc_labels['x' + f'{target_latent_variable}']}.zip\")\n",
        "\n",
        "    if download:\n",
        "        files.download(filename=f\"/content/result_{obj}.xlsx\")\n",
        "\n",
        "    return None\n",
        "\n",
        "analyze(groups=[\"gender\"], download=True)"
      ],
      "metadata": {
        "colab": {
          "base_uri": "https://localhost:8080/",
          "height": 1000
        },
        "id": "kSRNa84mhgQc",
        "outputId": "5ba960b1-9d97-4b0d-d96d-b9057755d4d9"
      },
      "execution_count": 50,
      "outputs": [
        {
          "output_type": "stream",
          "name": "stderr",
          "text": [
            "WARNING:root:Fisher Information Matrix is not PD.Moore-Penrose inverse will be used instead of Cholesky decomposition. See 10.1109/TSP.2012.2208105.\n",
            "WARNING:root:Fisher Information Matrix is not PD.Moore-Penrose inverse will be used instead of Cholesky decomposition. See 10.1109/TSP.2012.2208105.\n"
          ]
        },
        {
          "output_type": "stream",
          "name": "stdout",
          "text": [
            "Name of objective: GLS\n",
            "Optimization method: SLSQP\n",
            "Optimization successful.\n",
            "Optimization terminated successfully\n",
            "Objective value: 0.803\n",
            "Number of iterations: 68\n",
            "Params: 1.295 0.589 1.174 0.905 0.804 0.537 0.938 1.162 0.628 0.801 0.386 0.371 1.190 0.328 0.727 0.367 0.972 0.733 0.112 0.266 0.365 0.577 0.298 0.496 0.375 0.701 0.309 0.383 0.531 0.360 0.492 0.250 0.214 0.496 0.907 0.465 0.306 0.504 0.627 0.353 0.666 0.586 0.815 0.597 0.389 0.353 0.265 0.381 0.414 0.226 0.238 0.329 0.328 0.259 0.265\n"
          ]
        },
        {
          "output_type": "display_data",
          "data": {
            "text/plain": [
              "<IPython.core.display.Javascript object>"
            ],
            "application/javascript": [
              "\n",
              "    async function download(id, filename, size) {\n",
              "      if (!google.colab.kernel.accessAllowed) {\n",
              "        return;\n",
              "      }\n",
              "      const div = document.createElement('div');\n",
              "      const label = document.createElement('label');\n",
              "      label.textContent = `Downloading \"${filename}\": `;\n",
              "      div.appendChild(label);\n",
              "      const progress = document.createElement('progress');\n",
              "      progress.max = size;\n",
              "      div.appendChild(progress);\n",
              "      document.body.appendChild(div);\n",
              "\n",
              "      const buffers = [];\n",
              "      let downloaded = 0;\n",
              "\n",
              "      const channel = await google.colab.kernel.comms.open(id);\n",
              "      // Send a message to notify the kernel that we're ready.\n",
              "      channel.send({})\n",
              "\n",
              "      for await (const message of channel.messages) {\n",
              "        // Send a message to notify the kernel that we're ready.\n",
              "        channel.send({})\n",
              "        if (message.buffers) {\n",
              "          for (const buffer of message.buffers) {\n",
              "            buffers.push(buffer);\n",
              "            downloaded += buffer.byteLength;\n",
              "            progress.value = downloaded;\n",
              "          }\n",
              "        }\n",
              "      }\n",
              "      const blob = new Blob(buffers, {type: 'application/binary'});\n",
              "      const a = document.createElement('a');\n",
              "      a.href = window.URL.createObjectURL(blob);\n",
              "      a.download = filename;\n",
              "      div.appendChild(a);\n",
              "      a.click();\n",
              "      div.remove();\n",
              "    }\n",
              "  "
            ]
          },
          "metadata": {}
        },
        {
          "output_type": "display_data",
          "data": {
            "text/plain": [
              "<IPython.core.display.Javascript object>"
            ],
            "application/javascript": [
              "download(\"download_bc312b76-fc61-47be-9fff-9523eb57dfcc\", \"result_GLS_\\u062f\\u0631\\u06af\\u06cc\\u0631\\u0633\\u0627\\u0632\\u06cc \\u0645\\u0634\\u062a\\u0631\\u06cc.png\", 228414)"
            ]
          },
          "metadata": {}
        },
        {
          "output_type": "stream",
          "name": "stderr",
          "text": [
            "WARNING:root:Fisher Information Matrix is not PD.Moore-Penrose inverse will be used instead of Cholesky decomposition. See 10.1109/TSP.2012.2208105.\n",
            "WARNING:root:Fisher Information Matrix is not PD.Moore-Penrose inverse will be used instead of Cholesky decomposition. See 10.1109/TSP.2012.2208105.\n",
            "WARNING:root:Fisher Information Matrix is not PD.Moore-Penrose inverse will be used instead of Cholesky decomposition. See 10.1109/TSP.2012.2208105.\n",
            "WARNING:root:Fisher Information Matrix is not PD.Moore-Penrose inverse will be used instead of Cholesky decomposition. See 10.1109/TSP.2012.2208105.\n",
            "WARNING:root:Fisher Information Matrix is not PD.Moore-Penrose inverse will be used instead of Cholesky decomposition. See 10.1109/TSP.2012.2208105.\n"
          ]
        },
        {
          "output_type": "stream",
          "name": "stdout",
          "text": [
            "  adding: content/report_result_GLS_درگیرسازی مشتری/ (stored 0%)\n",
            "  adding: content/report_result_GLS_درگیرسازی مشتری/report.html (deflated 91%)\n",
            "  adding: content/report_result_GLS_درگیرسازی مشتری/plots/ (stored 0%)\n",
            "  adding: content/report_result_GLS_درگیرسازی مشتری/plots/2.png (deflated 7%)\n",
            "  adding: content/report_result_GLS_درگیرسازی مشتری/plots/3.png (deflated 10%)\n",
            "  adding: content/report_result_GLS_درگیرسازی مشتری/plots/4.png (deflated 11%)\n",
            "  adding: content/report_result_GLS_درگیرسازی مشتری/plots/1.png (deflated 8%)\n",
            "  adding: content/report_result_GLS_درگیرسازی مشتری/plots/1 (deflated 64%)\n",
            "  adding: content/report_result_GLS_درگیرسازی مشتری/plots/3 (deflated 81%)\n",
            "  adding: content/report_result_GLS_درگیرسازی مشتری/plots/2 (deflated 64%)\n",
            "  adding: content/report_result_GLS_درگیرسازی مشتری/plots/4 (deflated 80%)\n",
            "  adding: content/report_result_GLS_درگیرسازی مشتری/js/ (stored 0%)\n",
            "  adding: content/report_result_GLS_درگیرسازی مشتری/js/bootstrap.min.js (deflated 74%)\n",
            "  adding: content/report_result_GLS_درگیرسازی مشتری/css/ (stored 0%)\n",
            "  adding: content/report_result_GLS_درگیرسازی مشتری/css/bootstrap.min.css (deflated 85%)\n"
          ]
        },
        {
          "output_type": "display_data",
          "data": {
            "text/plain": [
              "<IPython.core.display.Javascript object>"
            ],
            "application/javascript": [
              "\n",
              "    async function download(id, filename, size) {\n",
              "      if (!google.colab.kernel.accessAllowed) {\n",
              "        return;\n",
              "      }\n",
              "      const div = document.createElement('div');\n",
              "      const label = document.createElement('label');\n",
              "      label.textContent = `Downloading \"${filename}\": `;\n",
              "      div.appendChild(label);\n",
              "      const progress = document.createElement('progress');\n",
              "      progress.max = size;\n",
              "      div.appendChild(progress);\n",
              "      document.body.appendChild(div);\n",
              "\n",
              "      const buffers = [];\n",
              "      let downloaded = 0;\n",
              "\n",
              "      const channel = await google.colab.kernel.comms.open(id);\n",
              "      // Send a message to notify the kernel that we're ready.\n",
              "      channel.send({})\n",
              "\n",
              "      for await (const message of channel.messages) {\n",
              "        // Send a message to notify the kernel that we're ready.\n",
              "        channel.send({})\n",
              "        if (message.buffers) {\n",
              "          for (const buffer of message.buffers) {\n",
              "            buffers.push(buffer);\n",
              "            downloaded += buffer.byteLength;\n",
              "            progress.value = downloaded;\n",
              "          }\n",
              "        }\n",
              "      }\n",
              "      const blob = new Blob(buffers, {type: 'application/binary'});\n",
              "      const a = document.createElement('a');\n",
              "      a.href = window.URL.createObjectURL(blob);\n",
              "      a.download = filename;\n",
              "      div.appendChild(a);\n",
              "      a.click();\n",
              "      div.remove();\n",
              "    }\n",
              "  "
            ]
          },
          "metadata": {}
        },
        {
          "output_type": "display_data",
          "data": {
            "text/plain": [
              "<IPython.core.display.Javascript object>"
            ],
            "application/javascript": [
              "download(\"download_2de8c030-191f-46db-be7a-1a71690b01d2\", \"report_result_GLS_\\u062f\\u0631\\u06af\\u06cc\\u0631\\u0633\\u0627\\u0632\\u06cc \\u0645\\u0634\\u062a\\u0631\\u06cc.zip\", 428587)"
            ]
          },
          "metadata": {}
        },
        {
          "output_type": "stream",
          "name": "stderr",
          "text": [
            "WARNING:root:Fisher Information Matrix is not PD.Moore-Penrose inverse will be used instead of Cholesky decomposition. See 10.1109/TSP.2012.2208105.\n"
          ]
        },
        {
          "output_type": "stream",
          "name": "stdout",
          "text": [
            "Name of objective: GLS\n",
            "Optimization method: SLSQP\n",
            "Optimization successful.\n",
            "Optimization terminated successfully\n",
            "Objective value: 0.631\n",
            "Number of iterations: 60\n",
            "Params: 1.257 0.591 1.139 0.909 1.630 0.552 0.530 0.537 0.405 0.525 0.252 0.272 0.366 0.315 0.724 0.339 0.993 0.744 0.718 0.270 0.363 0.606 0.305 0.514 0.379 0.701 0.589 1.174 0.612 0.529 0.896 0.880 0.555 0.373 0.502 0.612 0.380 0.707 0.788 0.715 0.798 0.646 0.400 0.415 0.269 0.397 0.386 0.434 0.253 0.349 0.318 0.310 0.380 0.285 0.253\n"
          ]
        },
        {
          "output_type": "stream",
          "name": "stderr",
          "text": [
            "WARNING:root:Fisher Information Matrix is not PD.Moore-Penrose inverse will be used instead of Cholesky decomposition. See 10.1109/TSP.2012.2208105.\n"
          ]
        },
        {
          "output_type": "display_data",
          "data": {
            "text/plain": [
              "<IPython.core.display.Javascript object>"
            ],
            "application/javascript": [
              "\n",
              "    async function download(id, filename, size) {\n",
              "      if (!google.colab.kernel.accessAllowed) {\n",
              "        return;\n",
              "      }\n",
              "      const div = document.createElement('div');\n",
              "      const label = document.createElement('label');\n",
              "      label.textContent = `Downloading \"${filename}\": `;\n",
              "      div.appendChild(label);\n",
              "      const progress = document.createElement('progress');\n",
              "      progress.max = size;\n",
              "      div.appendChild(progress);\n",
              "      document.body.appendChild(div);\n",
              "\n",
              "      const buffers = [];\n",
              "      let downloaded = 0;\n",
              "\n",
              "      const channel = await google.colab.kernel.comms.open(id);\n",
              "      // Send a message to notify the kernel that we're ready.\n",
              "      channel.send({})\n",
              "\n",
              "      for await (const message of channel.messages) {\n",
              "        // Send a message to notify the kernel that we're ready.\n",
              "        channel.send({})\n",
              "        if (message.buffers) {\n",
              "          for (const buffer of message.buffers) {\n",
              "            buffers.push(buffer);\n",
              "            downloaded += buffer.byteLength;\n",
              "            progress.value = downloaded;\n",
              "          }\n",
              "        }\n",
              "      }\n",
              "      const blob = new Blob(buffers, {type: 'application/binary'});\n",
              "      const a = document.createElement('a');\n",
              "      a.href = window.URL.createObjectURL(blob);\n",
              "      a.download = filename;\n",
              "      div.appendChild(a);\n",
              "      a.click();\n",
              "      div.remove();\n",
              "    }\n",
              "  "
            ]
          },
          "metadata": {}
        },
        {
          "output_type": "display_data",
          "data": {
            "text/plain": [
              "<IPython.core.display.Javascript object>"
            ],
            "application/javascript": [
              "download(\"download_f260f33b-a8cf-4758-8ee0-168e07cf0ef9\", \"result_GLS_\\u062e\\u0648\\u062f\\u0627\\u0638\\u0647\\u0627\\u0631\\u06cc \\u0628\\u0631\\u0646\\u062f.png\", 223472)"
            ]
          },
          "metadata": {}
        },
        {
          "output_type": "stream",
          "name": "stderr",
          "text": [
            "WARNING:root:Fisher Information Matrix is not PD.Moore-Penrose inverse will be used instead of Cholesky decomposition. See 10.1109/TSP.2012.2208105.\n",
            "WARNING:root:Fisher Information Matrix is not PD.Moore-Penrose inverse will be used instead of Cholesky decomposition. See 10.1109/TSP.2012.2208105.\n",
            "WARNING:root:Fisher Information Matrix is not PD.Moore-Penrose inverse will be used instead of Cholesky decomposition. See 10.1109/TSP.2012.2208105.\n",
            "WARNING:root:Fisher Information Matrix is not PD.Moore-Penrose inverse will be used instead of Cholesky decomposition. See 10.1109/TSP.2012.2208105.\n",
            "WARNING:root:Fisher Information Matrix is not PD.Moore-Penrose inverse will be used instead of Cholesky decomposition. See 10.1109/TSP.2012.2208105.\n"
          ]
        },
        {
          "output_type": "stream",
          "name": "stdout",
          "text": [
            "  adding: content/report_result_GLS_خوداظهاری برند/ (stored 0%)\n",
            "  adding: content/report_result_GLS_خوداظهاری برند/report.html (deflated 91%)\n",
            "  adding: content/report_result_GLS_خوداظهاری برند/plots/ (stored 0%)\n",
            "  adding: content/report_result_GLS_خوداظهاری برند/plots/2.png (deflated 9%)\n",
            "  adding: content/report_result_GLS_خوداظهاری برند/plots/3.png (deflated 10%)\n",
            "  adding: content/report_result_GLS_خوداظهاری برند/plots/4.png (deflated 11%)\n",
            "  adding: content/report_result_GLS_خوداظهاری برند/plots/1.png (deflated 10%)\n",
            "  adding: content/report_result_GLS_خوداظهاری برند/plots/1 (deflated 64%)\n",
            "  adding: content/report_result_GLS_خوداظهاری برند/plots/3 (deflated 81%)\n",
            "  adding: content/report_result_GLS_خوداظهاری برند/plots/2 (deflated 64%)\n",
            "  adding: content/report_result_GLS_خوداظهاری برند/plots/4 (deflated 80%)\n",
            "  adding: content/report_result_GLS_خوداظهاری برند/js/ (stored 0%)\n",
            "  adding: content/report_result_GLS_خوداظهاری برند/js/bootstrap.min.js (deflated 74%)\n",
            "  adding: content/report_result_GLS_خوداظهاری برند/css/ (stored 0%)\n",
            "  adding: content/report_result_GLS_خوداظهاری برند/css/bootstrap.min.css (deflated 85%)\n"
          ]
        },
        {
          "output_type": "display_data",
          "data": {
            "text/plain": [
              "<IPython.core.display.Javascript object>"
            ],
            "application/javascript": [
              "\n",
              "    async function download(id, filename, size) {\n",
              "      if (!google.colab.kernel.accessAllowed) {\n",
              "        return;\n",
              "      }\n",
              "      const div = document.createElement('div');\n",
              "      const label = document.createElement('label');\n",
              "      label.textContent = `Downloading \"${filename}\": `;\n",
              "      div.appendChild(label);\n",
              "      const progress = document.createElement('progress');\n",
              "      progress.max = size;\n",
              "      div.appendChild(progress);\n",
              "      document.body.appendChild(div);\n",
              "\n",
              "      const buffers = [];\n",
              "      let downloaded = 0;\n",
              "\n",
              "      const channel = await google.colab.kernel.comms.open(id);\n",
              "      // Send a message to notify the kernel that we're ready.\n",
              "      channel.send({})\n",
              "\n",
              "      for await (const message of channel.messages) {\n",
              "        // Send a message to notify the kernel that we're ready.\n",
              "        channel.send({})\n",
              "        if (message.buffers) {\n",
              "          for (const buffer of message.buffers) {\n",
              "            buffers.push(buffer);\n",
              "            downloaded += buffer.byteLength;\n",
              "            progress.value = downloaded;\n",
              "          }\n",
              "        }\n",
              "      }\n",
              "      const blob = new Blob(buffers, {type: 'application/binary'});\n",
              "      const a = document.createElement('a');\n",
              "      a.href = window.URL.createObjectURL(blob);\n",
              "      a.download = filename;\n",
              "      div.appendChild(a);\n",
              "      a.click();\n",
              "      div.remove();\n",
              "    }\n",
              "  "
            ]
          },
          "metadata": {}
        },
        {
          "output_type": "display_data",
          "data": {
            "text/plain": [
              "<IPython.core.display.Javascript object>"
            ],
            "application/javascript": [
              "download(\"download_54764e6e-05bc-4f1c-a43f-1bb600dda41d\", \"report_result_GLS_\\u062e\\u0648\\u062f\\u0627\\u0638\\u0647\\u0627\\u0631\\u06cc \\u0628\\u0631\\u0646\\u062f.zip\", 422989)"
            ]
          },
          "metadata": {}
        },
        {
          "output_type": "stream",
          "name": "stderr",
          "text": [
            "WARNING:root:Fisher Information Matrix is not PD.Moore-Penrose inverse will be used instead of Cholesky decomposition. See 10.1109/TSP.2012.2208105.\n",
            "WARNING:root:Fisher Information Matrix is not PD.Moore-Penrose inverse will be used instead of Cholesky decomposition. See 10.1109/TSP.2012.2208105.\n"
          ]
        },
        {
          "output_type": "stream",
          "name": "stdout",
          "text": [
            "Name of objective: GLS\n",
            "Optimization method: SLSQP\n",
            "Optimization successful.\n",
            "Optimization terminated successfully\n",
            "Objective value: 0.527\n",
            "Number of iterations: 61\n",
            "Params: 1.248 0.596 1.098 0.913 1.104 0.866 0.510 0.829 0.575 0.717 0.347 0.385 0.900 0.319 0.730 0.363 0.658 0.738 0.717 0.269 0.363 0.597 0.303 0.506 0.373 0.703 0.587 1.165 0.616 0.377 0.550 0.546 0.420 0.563 0.294 0.268 0.496 0.617 0.386 0.729 0.787 0.804 0.650 0.431 0.409 0.297 0.398 0.392 0.450 0.251 0.364 0.325 0.374 0.292 0.173\n"
          ]
        },
        {
          "output_type": "display_data",
          "data": {
            "text/plain": [
              "<IPython.core.display.Javascript object>"
            ],
            "application/javascript": [
              "\n",
              "    async function download(id, filename, size) {\n",
              "      if (!google.colab.kernel.accessAllowed) {\n",
              "        return;\n",
              "      }\n",
              "      const div = document.createElement('div');\n",
              "      const label = document.createElement('label');\n",
              "      label.textContent = `Downloading \"${filename}\": `;\n",
              "      div.appendChild(label);\n",
              "      const progress = document.createElement('progress');\n",
              "      progress.max = size;\n",
              "      div.appendChild(progress);\n",
              "      document.body.appendChild(div);\n",
              "\n",
              "      const buffers = [];\n",
              "      let downloaded = 0;\n",
              "\n",
              "      const channel = await google.colab.kernel.comms.open(id);\n",
              "      // Send a message to notify the kernel that we're ready.\n",
              "      channel.send({})\n",
              "\n",
              "      for await (const message of channel.messages) {\n",
              "        // Send a message to notify the kernel that we're ready.\n",
              "        channel.send({})\n",
              "        if (message.buffers) {\n",
              "          for (const buffer of message.buffers) {\n",
              "            buffers.push(buffer);\n",
              "            downloaded += buffer.byteLength;\n",
              "            progress.value = downloaded;\n",
              "          }\n",
              "        }\n",
              "      }\n",
              "      const blob = new Blob(buffers, {type: 'application/binary'});\n",
              "      const a = document.createElement('a');\n",
              "      a.href = window.URL.createObjectURL(blob);\n",
              "      a.download = filename;\n",
              "      div.appendChild(a);\n",
              "      a.click();\n",
              "      div.remove();\n",
              "    }\n",
              "  "
            ]
          },
          "metadata": {}
        },
        {
          "output_type": "display_data",
          "data": {
            "text/plain": [
              "<IPython.core.display.Javascript object>"
            ],
            "application/javascript": [
              "download(\"download_f11c259f-189f-40c9-89b7-040fb24d3032\", \"result_GLS_\\u067e\\u0631\\u062f\\u0627\\u0632\\u0634 \\u0634\\u0646\\u0627\\u062e\\u062a\\u06cc.png\", 224096)"
            ]
          },
          "metadata": {}
        },
        {
          "output_type": "stream",
          "name": "stderr",
          "text": [
            "WARNING:root:Fisher Information Matrix is not PD.Moore-Penrose inverse will be used instead of Cholesky decomposition. See 10.1109/TSP.2012.2208105.\n",
            "WARNING:root:Fisher Information Matrix is not PD.Moore-Penrose inverse will be used instead of Cholesky decomposition. See 10.1109/TSP.2012.2208105.\n",
            "WARNING:root:Fisher Information Matrix is not PD.Moore-Penrose inverse will be used instead of Cholesky decomposition. See 10.1109/TSP.2012.2208105.\n",
            "WARNING:root:Fisher Information Matrix is not PD.Moore-Penrose inverse will be used instead of Cholesky decomposition. See 10.1109/TSP.2012.2208105.\n",
            "WARNING:root:Fisher Information Matrix is not PD.Moore-Penrose inverse will be used instead of Cholesky decomposition. See 10.1109/TSP.2012.2208105.\n"
          ]
        },
        {
          "output_type": "stream",
          "name": "stdout",
          "text": [
            "  adding: content/report_result_GLS_پردازش شناختی/ (stored 0%)\n",
            "  adding: content/report_result_GLS_پردازش شناختی/report.html (deflated 91%)\n",
            "  adding: content/report_result_GLS_پردازش شناختی/plots/ (stored 0%)\n",
            "  adding: content/report_result_GLS_پردازش شناختی/plots/2.png (deflated 7%)\n",
            "  adding: content/report_result_GLS_پردازش شناختی/plots/3.png (deflated 10%)\n",
            "  adding: content/report_result_GLS_پردازش شناختی/plots/4.png (deflated 11%)\n",
            "  adding: content/report_result_GLS_پردازش شناختی/plots/1.png (deflated 8%)\n",
            "  adding: content/report_result_GLS_پردازش شناختی/plots/1 (deflated 64%)\n",
            "  adding: content/report_result_GLS_پردازش شناختی/plots/3 (deflated 81%)\n",
            "  adding: content/report_result_GLS_پردازش شناختی/plots/2 (deflated 64%)\n",
            "  adding: content/report_result_GLS_پردازش شناختی/plots/4 (deflated 80%)\n",
            "  adding: content/report_result_GLS_پردازش شناختی/js/ (stored 0%)\n",
            "  adding: content/report_result_GLS_پردازش شناختی/js/bootstrap.min.js (deflated 74%)\n",
            "  adding: content/report_result_GLS_پردازش شناختی/css/ (stored 0%)\n",
            "  adding: content/report_result_GLS_پردازش شناختی/css/bootstrap.min.css (deflated 85%)\n"
          ]
        },
        {
          "output_type": "display_data",
          "data": {
            "text/plain": [
              "<IPython.core.display.Javascript object>"
            ],
            "application/javascript": [
              "\n",
              "    async function download(id, filename, size) {\n",
              "      if (!google.colab.kernel.accessAllowed) {\n",
              "        return;\n",
              "      }\n",
              "      const div = document.createElement('div');\n",
              "      const label = document.createElement('label');\n",
              "      label.textContent = `Downloading \"${filename}\": `;\n",
              "      div.appendChild(label);\n",
              "      const progress = document.createElement('progress');\n",
              "      progress.max = size;\n",
              "      div.appendChild(progress);\n",
              "      document.body.appendChild(div);\n",
              "\n",
              "      const buffers = [];\n",
              "      let downloaded = 0;\n",
              "\n",
              "      const channel = await google.colab.kernel.comms.open(id);\n",
              "      // Send a message to notify the kernel that we're ready.\n",
              "      channel.send({})\n",
              "\n",
              "      for await (const message of channel.messages) {\n",
              "        // Send a message to notify the kernel that we're ready.\n",
              "        channel.send({})\n",
              "        if (message.buffers) {\n",
              "          for (const buffer of message.buffers) {\n",
              "            buffers.push(buffer);\n",
              "            downloaded += buffer.byteLength;\n",
              "            progress.value = downloaded;\n",
              "          }\n",
              "        }\n",
              "      }\n",
              "      const blob = new Blob(buffers, {type: 'application/binary'});\n",
              "      const a = document.createElement('a');\n",
              "      a.href = window.URL.createObjectURL(blob);\n",
              "      a.download = filename;\n",
              "      div.appendChild(a);\n",
              "      a.click();\n",
              "      div.remove();\n",
              "    }\n",
              "  "
            ]
          },
          "metadata": {}
        },
        {
          "output_type": "display_data",
          "data": {
            "text/plain": [
              "<IPython.core.display.Javascript object>"
            ],
            "application/javascript": [
              "download(\"download_7806351b-113a-4513-98eb-04e70e9f01f4\", \"report_result_GLS_\\u067e\\u0631\\u062f\\u0627\\u0632\\u0634 \\u0634\\u0646\\u0627\\u062e\\u062a\\u06cc.zip\", 426759)"
            ]
          },
          "metadata": {}
        },
        {
          "output_type": "stream",
          "name": "stderr",
          "text": [
            "WARNING:root:Fisher Information Matrix is not PD.Moore-Penrose inverse will be used instead of Cholesky decomposition. See 10.1109/TSP.2012.2208105.\n",
            "WARNING:root:Fisher Information Matrix is not PD.Moore-Penrose inverse will be used instead of Cholesky decomposition. See 10.1109/TSP.2012.2208105.\n"
          ]
        },
        {
          "output_type": "stream",
          "name": "stdout",
          "text": [
            "Name of objective: GLS\n",
            "Optimization method: SLSQP\n",
            "Optimization successful.\n",
            "Optimization terminated successfully\n",
            "Objective value: 0.750\n",
            "Number of iterations: 60\n",
            "Params: 1.308 0.584 1.178 0.893 0.846 1.158 0.532 0.917 0.629 0.819 0.379 0.339 1.089 0.329 0.727 0.368 0.973 0.145 0.802 0.271 0.361 0.575 0.297 0.491 0.377 0.701 0.497 0.618 0.313 0.528 0.390 0.368 0.507 0.251 0.212 0.505 0.932 0.478 0.310 0.371 0.696 0.793 0.611 0.618 0.395 0.361 0.265 0.381 0.416 0.214 0.367 0.232 0.331 0.259 0.304\n"
          ]
        },
        {
          "output_type": "display_data",
          "data": {
            "text/plain": [
              "<IPython.core.display.Javascript object>"
            ],
            "application/javascript": [
              "\n",
              "    async function download(id, filename, size) {\n",
              "      if (!google.colab.kernel.accessAllowed) {\n",
              "        return;\n",
              "      }\n",
              "      const div = document.createElement('div');\n",
              "      const label = document.createElement('label');\n",
              "      label.textContent = `Downloading \"${filename}\": `;\n",
              "      div.appendChild(label);\n",
              "      const progress = document.createElement('progress');\n",
              "      progress.max = size;\n",
              "      div.appendChild(progress);\n",
              "      document.body.appendChild(div);\n",
              "\n",
              "      const buffers = [];\n",
              "      let downloaded = 0;\n",
              "\n",
              "      const channel = await google.colab.kernel.comms.open(id);\n",
              "      // Send a message to notify the kernel that we're ready.\n",
              "      channel.send({})\n",
              "\n",
              "      for await (const message of channel.messages) {\n",
              "        // Send a message to notify the kernel that we're ready.\n",
              "        channel.send({})\n",
              "        if (message.buffers) {\n",
              "          for (const buffer of message.buffers) {\n",
              "            buffers.push(buffer);\n",
              "            downloaded += buffer.byteLength;\n",
              "            progress.value = downloaded;\n",
              "          }\n",
              "        }\n",
              "      }\n",
              "      const blob = new Blob(buffers, {type: 'application/binary'});\n",
              "      const a = document.createElement('a');\n",
              "      a.href = window.URL.createObjectURL(blob);\n",
              "      a.download = filename;\n",
              "      div.appendChild(a);\n",
              "      a.click();\n",
              "      div.remove();\n",
              "    }\n",
              "  "
            ]
          },
          "metadata": {}
        },
        {
          "output_type": "display_data",
          "data": {
            "text/plain": [
              "<IPython.core.display.Javascript object>"
            ],
            "application/javascript": [
              "download(\"download_3799b0df-be2b-4cca-875a-4048bba48164\", \"result_GLS_\\u0627\\u062b\\u0631\\u06af\\u0630\\u0627\\u0631\\u06cc \\u0639\\u0627\\u0637\\u0641\\u06cc.png\", 228728)"
            ]
          },
          "metadata": {}
        },
        {
          "output_type": "stream",
          "name": "stderr",
          "text": [
            "WARNING:root:Fisher Information Matrix is not PD.Moore-Penrose inverse will be used instead of Cholesky decomposition. See 10.1109/TSP.2012.2208105.\n",
            "WARNING:root:Fisher Information Matrix is not PD.Moore-Penrose inverse will be used instead of Cholesky decomposition. See 10.1109/TSP.2012.2208105.\n",
            "WARNING:root:Fisher Information Matrix is not PD.Moore-Penrose inverse will be used instead of Cholesky decomposition. See 10.1109/TSP.2012.2208105.\n",
            "WARNING:root:Fisher Information Matrix is not PD.Moore-Penrose inverse will be used instead of Cholesky decomposition. See 10.1109/TSP.2012.2208105.\n",
            "WARNING:root:Fisher Information Matrix is not PD.Moore-Penrose inverse will be used instead of Cholesky decomposition. See 10.1109/TSP.2012.2208105.\n"
          ]
        },
        {
          "output_type": "stream",
          "name": "stdout",
          "text": [
            "  adding: content/report_result_GLS_اثرگذاری عاطفی/ (stored 0%)\n",
            "  adding: content/report_result_GLS_اثرگذاری عاطفی/report.html (deflated 91%)\n",
            "  adding: content/report_result_GLS_اثرگذاری عاطفی/plots/ (stored 0%)\n",
            "  adding: content/report_result_GLS_اثرگذاری عاطفی/plots/2.png (deflated 7%)\n",
            "  adding: content/report_result_GLS_اثرگذاری عاطفی/plots/3.png (deflated 10%)\n",
            "  adding: content/report_result_GLS_اثرگذاری عاطفی/plots/4.png (deflated 11%)\n",
            "  adding: content/report_result_GLS_اثرگذاری عاطفی/plots/1.png (deflated 8%)\n",
            "  adding: content/report_result_GLS_اثرگذاری عاطفی/plots/1 (deflated 64%)\n",
            "  adding: content/report_result_GLS_اثرگذاری عاطفی/plots/3 (deflated 81%)\n",
            "  adding: content/report_result_GLS_اثرگذاری عاطفی/plots/2 (deflated 64%)\n",
            "  adding: content/report_result_GLS_اثرگذاری عاطفی/plots/4 (deflated 80%)\n",
            "  adding: content/report_result_GLS_اثرگذاری عاطفی/js/ (stored 0%)\n",
            "  adding: content/report_result_GLS_اثرگذاری عاطفی/js/bootstrap.min.js (deflated 74%)\n",
            "  adding: content/report_result_GLS_اثرگذاری عاطفی/css/ (stored 0%)\n",
            "  adding: content/report_result_GLS_اثرگذاری عاطفی/css/bootstrap.min.css (deflated 85%)\n"
          ]
        },
        {
          "output_type": "display_data",
          "data": {
            "text/plain": [
              "<IPython.core.display.Javascript object>"
            ],
            "application/javascript": [
              "\n",
              "    async function download(id, filename, size) {\n",
              "      if (!google.colab.kernel.accessAllowed) {\n",
              "        return;\n",
              "      }\n",
              "      const div = document.createElement('div');\n",
              "      const label = document.createElement('label');\n",
              "      label.textContent = `Downloading \"${filename}\": `;\n",
              "      div.appendChild(label);\n",
              "      const progress = document.createElement('progress');\n",
              "      progress.max = size;\n",
              "      div.appendChild(progress);\n",
              "      document.body.appendChild(div);\n",
              "\n",
              "      const buffers = [];\n",
              "      let downloaded = 0;\n",
              "\n",
              "      const channel = await google.colab.kernel.comms.open(id);\n",
              "      // Send a message to notify the kernel that we're ready.\n",
              "      channel.send({})\n",
              "\n",
              "      for await (const message of channel.messages) {\n",
              "        // Send a message to notify the kernel that we're ready.\n",
              "        channel.send({})\n",
              "        if (message.buffers) {\n",
              "          for (const buffer of message.buffers) {\n",
              "            buffers.push(buffer);\n",
              "            downloaded += buffer.byteLength;\n",
              "            progress.value = downloaded;\n",
              "          }\n",
              "        }\n",
              "      }\n",
              "      const blob = new Blob(buffers, {type: 'application/binary'});\n",
              "      const a = document.createElement('a');\n",
              "      a.href = window.URL.createObjectURL(blob);\n",
              "      a.download = filename;\n",
              "      div.appendChild(a);\n",
              "      a.click();\n",
              "      div.remove();\n",
              "    }\n",
              "  "
            ]
          },
          "metadata": {}
        },
        {
          "output_type": "display_data",
          "data": {
            "text/plain": [
              "<IPython.core.display.Javascript object>"
            ],
            "application/javascript": [
              "download(\"download_b4e8c1f8-3054-4d1a-bc49-8e42ec6847b4\", \"report_result_GLS_\\u0627\\u062b\\u0631\\u06af\\u0630\\u0627\\u0631\\u06cc \\u0639\\u0627\\u0637\\u0641\\u06cc.zip\", 428723)"
            ]
          },
          "metadata": {}
        },
        {
          "output_type": "stream",
          "name": "stdout",
          "text": [
            "Name of objective: GLS\n",
            "Optimization method: SLSQP\n",
            "Optimization successful.\n",
            "Optimization terminated successfully\n",
            "Objective value: 0.759\n",
            "Number of iterations: 65\n",
            "Params: 1.197 0.583 0.947 0.944 1.312 0.663 0.457 0.668 0.644 0.632 0.389 0.355 0.555 0.344 0.726 0.365 1.013 0.741 0.704 0.272 0.362 0.604 0.289 0.247 0.378 0.704 0.592 1.163 0.425 0.571 0.509 0.566 0.602 0.350 0.291 0.537 0.897 0.880 0.475 0.495 0.732 0.792 0.719 0.803 0.456 0.409 0.283 0.472 0.449 0.245 0.356 0.350 0.311 0.294 0.228\n"
          ]
        },
        {
          "output_type": "stream",
          "name": "stderr",
          "text": [
            "WARNING:root:Fisher Information Matrix is not PD.Moore-Penrose inverse will be used instead of Cholesky decomposition. See 10.1109/TSP.2012.2208105.\n",
            "WARNING:root:Fisher Information Matrix is not PD.Moore-Penrose inverse will be used instead of Cholesky decomposition. See 10.1109/TSP.2012.2208105.\n"
          ]
        },
        {
          "output_type": "display_data",
          "data": {
            "text/plain": [
              "<IPython.core.display.Javascript object>"
            ],
            "application/javascript": [
              "\n",
              "    async function download(id, filename, size) {\n",
              "      if (!google.colab.kernel.accessAllowed) {\n",
              "        return;\n",
              "      }\n",
              "      const div = document.createElement('div');\n",
              "      const label = document.createElement('label');\n",
              "      label.textContent = `Downloading \"${filename}\": `;\n",
              "      div.appendChild(label);\n",
              "      const progress = document.createElement('progress');\n",
              "      progress.max = size;\n",
              "      div.appendChild(progress);\n",
              "      document.body.appendChild(div);\n",
              "\n",
              "      const buffers = [];\n",
              "      let downloaded = 0;\n",
              "\n",
              "      const channel = await google.colab.kernel.comms.open(id);\n",
              "      // Send a message to notify the kernel that we're ready.\n",
              "      channel.send({})\n",
              "\n",
              "      for await (const message of channel.messages) {\n",
              "        // Send a message to notify the kernel that we're ready.\n",
              "        channel.send({})\n",
              "        if (message.buffers) {\n",
              "          for (const buffer of message.buffers) {\n",
              "            buffers.push(buffer);\n",
              "            downloaded += buffer.byteLength;\n",
              "            progress.value = downloaded;\n",
              "          }\n",
              "        }\n",
              "      }\n",
              "      const blob = new Blob(buffers, {type: 'application/binary'});\n",
              "      const a = document.createElement('a');\n",
              "      a.href = window.URL.createObjectURL(blob);\n",
              "      a.download = filename;\n",
              "      div.appendChild(a);\n",
              "      a.click();\n",
              "      div.remove();\n",
              "    }\n",
              "  "
            ]
          },
          "metadata": {}
        },
        {
          "output_type": "display_data",
          "data": {
            "text/plain": [
              "<IPython.core.display.Javascript object>"
            ],
            "application/javascript": [
              "download(\"download_15760f43-b36f-4067-a95d-eb3d6875830a\", \"result_GLS_\\u0627\\u0631\\u0632\\u0634 \\u0622\\u0641\\u0631\\u06cc\\u0646\\u06cc \\u0645\\u0634\\u062a\\u0631\\u06cc \\u0628\\u0631\\u0627\\u06cc \\u0628\\u0631\\u0646\\u062f.png\", 227960)"
            ]
          },
          "metadata": {}
        },
        {
          "output_type": "stream",
          "name": "stderr",
          "text": [
            "WARNING:root:Fisher Information Matrix is not PD.Moore-Penrose inverse will be used instead of Cholesky decomposition. See 10.1109/TSP.2012.2208105.\n",
            "WARNING:root:Fisher Information Matrix is not PD.Moore-Penrose inverse will be used instead of Cholesky decomposition. See 10.1109/TSP.2012.2208105.\n",
            "WARNING:root:Fisher Information Matrix is not PD.Moore-Penrose inverse will be used instead of Cholesky decomposition. See 10.1109/TSP.2012.2208105.\n",
            "WARNING:root:Fisher Information Matrix is not PD.Moore-Penrose inverse will be used instead of Cholesky decomposition. See 10.1109/TSP.2012.2208105.\n",
            "WARNING:root:Fisher Information Matrix is not PD.Moore-Penrose inverse will be used instead of Cholesky decomposition. See 10.1109/TSP.2012.2208105.\n"
          ]
        },
        {
          "output_type": "stream",
          "name": "stdout",
          "text": [
            "  adding: content/report_result_GLS_ارزش آفرینی مشتری برای برند/ (stored 0%)\n",
            "  adding: content/report_result_GLS_ارزش آفرینی مشتری برای برند/report.html (deflated 91%)\n",
            "  adding: content/report_result_GLS_ارزش آفرینی مشتری برای برند/plots/ (stored 0%)\n",
            "  adding: content/report_result_GLS_ارزش آفرینی مشتری برای برند/plots/2.png (deflated 7%)\n",
            "  adding: content/report_result_GLS_ارزش آفرینی مشتری برای برند/plots/3.png (deflated 10%)\n",
            "  adding: content/report_result_GLS_ارزش آفرینی مشتری برای برند/plots/4.png (deflated 11%)\n",
            "  adding: content/report_result_GLS_ارزش آفرینی مشتری برای برند/plots/1.png (deflated 8%)\n",
            "  adding: content/report_result_GLS_ارزش آفرینی مشتری برای برند/plots/1 (deflated 64%)\n",
            "  adding: content/report_result_GLS_ارزش آفرینی مشتری برای برند/plots/3 (deflated 81%)\n",
            "  adding: content/report_result_GLS_ارزش آفرینی مشتری برای برند/plots/2 (deflated 64%)\n",
            "  adding: content/report_result_GLS_ارزش آفرینی مشتری برای برند/plots/4 (deflated 80%)\n",
            "  adding: content/report_result_GLS_ارزش آفرینی مشتری برای برند/js/ (stored 0%)\n",
            "  adding: content/report_result_GLS_ارزش آفرینی مشتری برای برند/js/bootstrap.min.js (deflated 74%)\n",
            "  adding: content/report_result_GLS_ارزش آفرینی مشتری برای برند/css/ (stored 0%)\n",
            "  adding: content/report_result_GLS_ارزش آفرینی مشتری برای برند/css/bootstrap.min.css (deflated 85%)\n"
          ]
        },
        {
          "output_type": "display_data",
          "data": {
            "text/plain": [
              "<IPython.core.display.Javascript object>"
            ],
            "application/javascript": [
              "\n",
              "    async function download(id, filename, size) {\n",
              "      if (!google.colab.kernel.accessAllowed) {\n",
              "        return;\n",
              "      }\n",
              "      const div = document.createElement('div');\n",
              "      const label = document.createElement('label');\n",
              "      label.textContent = `Downloading \"${filename}\": `;\n",
              "      div.appendChild(label);\n",
              "      const progress = document.createElement('progress');\n",
              "      progress.max = size;\n",
              "      div.appendChild(progress);\n",
              "      document.body.appendChild(div);\n",
              "\n",
              "      const buffers = [];\n",
              "      let downloaded = 0;\n",
              "\n",
              "      const channel = await google.colab.kernel.comms.open(id);\n",
              "      // Send a message to notify the kernel that we're ready.\n",
              "      channel.send({})\n",
              "\n",
              "      for await (const message of channel.messages) {\n",
              "        // Send a message to notify the kernel that we're ready.\n",
              "        channel.send({})\n",
              "        if (message.buffers) {\n",
              "          for (const buffer of message.buffers) {\n",
              "            buffers.push(buffer);\n",
              "            downloaded += buffer.byteLength;\n",
              "            progress.value = downloaded;\n",
              "          }\n",
              "        }\n",
              "      }\n",
              "      const blob = new Blob(buffers, {type: 'application/binary'});\n",
              "      const a = document.createElement('a');\n",
              "      a.href = window.URL.createObjectURL(blob);\n",
              "      a.download = filename;\n",
              "      div.appendChild(a);\n",
              "      a.click();\n",
              "      div.remove();\n",
              "    }\n",
              "  "
            ]
          },
          "metadata": {}
        },
        {
          "output_type": "display_data",
          "data": {
            "text/plain": [
              "<IPython.core.display.Javascript object>"
            ],
            "application/javascript": [
              "download(\"download_32c4568a-17b3-429a-9c6a-5293ec46faf7\", \"report_result_GLS_\\u0627\\u0631\\u0632\\u0634 \\u0622\\u0641\\u0631\\u06cc\\u0646\\u06cc \\u0645\\u0634\\u062a\\u0631\\u06cc \\u0628\\u0631\\u0627\\u06cc \\u0628\\u0631\\u0646\\u062f.zip\", 429410)"
            ]
          },
          "metadata": {}
        },
        {
          "output_type": "stream",
          "name": "stderr",
          "text": [
            "WARNING:root:Fisher Information Matrix is not PD.Moore-Penrose inverse will be used instead of Cholesky decomposition. See 10.1109/TSP.2012.2208105.\n"
          ]
        },
        {
          "output_type": "stream",
          "name": "stdout",
          "text": [
            "Name of objective: GLS\n",
            "Optimization method: SLSQP\n",
            "Optimization successful.\n",
            "Optimization terminated successfully\n",
            "Objective value: 0.650\n",
            "Number of iterations: 57\n",
            "Params: 1.216 0.587 1.061 0.927 1.092 0.809 0.567 0.769 0.804 0.633 0.409 0.417 0.767 0.325 0.733 0.360 0.988 0.748 0.729 0.263 0.367 0.606 0.299 0.518 0.315 0.680 0.578 1.178 0.623 0.399 0.565 0.512 0.556 0.431 0.302 0.282 0.523 0.895 0.892 0.587 0.410 0.502 0.616 0.367 0.294 0.424 0.406 0.446 0.253 0.353 0.332 0.313 0.378 0.295 0.286\n"
          ]
        },
        {
          "output_type": "stream",
          "name": "stderr",
          "text": [
            "WARNING:root:Fisher Information Matrix is not PD.Moore-Penrose inverse will be used instead of Cholesky decomposition. See 10.1109/TSP.2012.2208105.\n"
          ]
        },
        {
          "output_type": "display_data",
          "data": {
            "text/plain": [
              "<IPython.core.display.Javascript object>"
            ],
            "application/javascript": [
              "\n",
              "    async function download(id, filename, size) {\n",
              "      if (!google.colab.kernel.accessAllowed) {\n",
              "        return;\n",
              "      }\n",
              "      const div = document.createElement('div');\n",
              "      const label = document.createElement('label');\n",
              "      label.textContent = `Downloading \"${filename}\": `;\n",
              "      div.appendChild(label);\n",
              "      const progress = document.createElement('progress');\n",
              "      progress.max = size;\n",
              "      div.appendChild(progress);\n",
              "      document.body.appendChild(div);\n",
              "\n",
              "      const buffers = [];\n",
              "      let downloaded = 0;\n",
              "\n",
              "      const channel = await google.colab.kernel.comms.open(id);\n",
              "      // Send a message to notify the kernel that we're ready.\n",
              "      channel.send({})\n",
              "\n",
              "      for await (const message of channel.messages) {\n",
              "        // Send a message to notify the kernel that we're ready.\n",
              "        channel.send({})\n",
              "        if (message.buffers) {\n",
              "          for (const buffer of message.buffers) {\n",
              "            buffers.push(buffer);\n",
              "            downloaded += buffer.byteLength;\n",
              "            progress.value = downloaded;\n",
              "          }\n",
              "        }\n",
              "      }\n",
              "      const blob = new Blob(buffers, {type: 'application/binary'});\n",
              "      const a = document.createElement('a');\n",
              "      a.href = window.URL.createObjectURL(blob);\n",
              "      a.download = filename;\n",
              "      div.appendChild(a);\n",
              "      a.click();\n",
              "      div.remove();\n",
              "    }\n",
              "  "
            ]
          },
          "metadata": {}
        },
        {
          "output_type": "display_data",
          "data": {
            "text/plain": [
              "<IPython.core.display.Javascript object>"
            ],
            "application/javascript": [
              "download(\"download_92a7f1bc-dacf-4743-a3ef-d27c1f7b4cc0\", \"result_GLS_\\u06a9\\u06cc\\u0641\\u06cc\\u062a \\u0627\\u062f\\u0631\\u0627\\u06a9 \\u0634\\u062f\\u0647.png\", 224909)"
            ]
          },
          "metadata": {}
        },
        {
          "output_type": "stream",
          "name": "stderr",
          "text": [
            "WARNING:root:Fisher Information Matrix is not PD.Moore-Penrose inverse will be used instead of Cholesky decomposition. See 10.1109/TSP.2012.2208105.\n",
            "WARNING:root:Fisher Information Matrix is not PD.Moore-Penrose inverse will be used instead of Cholesky decomposition. See 10.1109/TSP.2012.2208105.\n",
            "WARNING:root:Fisher Information Matrix is not PD.Moore-Penrose inverse will be used instead of Cholesky decomposition. See 10.1109/TSP.2012.2208105.\n",
            "WARNING:root:Fisher Information Matrix is not PD.Moore-Penrose inverse will be used instead of Cholesky decomposition. See 10.1109/TSP.2012.2208105.\n",
            "WARNING:root:Fisher Information Matrix is not PD.Moore-Penrose inverse will be used instead of Cholesky decomposition. See 10.1109/TSP.2012.2208105.\n"
          ]
        },
        {
          "output_type": "stream",
          "name": "stdout",
          "text": [
            "  adding: content/report_result_GLS_کیفیت ادراک شده/ (stored 0%)\n",
            "  adding: content/report_result_GLS_کیفیت ادراک شده/report.html (deflated 91%)\n",
            "  adding: content/report_result_GLS_کیفیت ادراک شده/plots/ (stored 0%)\n",
            "  adding: content/report_result_GLS_کیفیت ادراک شده/plots/2.png (deflated 8%)\n",
            "  adding: content/report_result_GLS_کیفیت ادراک شده/plots/3.png (deflated 10%)\n",
            "  adding: content/report_result_GLS_کیفیت ادراک شده/plots/4.png (deflated 12%)\n",
            "  adding: content/report_result_GLS_کیفیت ادراک شده/plots/1.png (deflated 9%)\n",
            "  adding: content/report_result_GLS_کیفیت ادراک شده/plots/1 (deflated 64%)\n",
            "  adding: content/report_result_GLS_کیفیت ادراک شده/plots/3 (deflated 81%)\n",
            "  adding: content/report_result_GLS_کیفیت ادراک شده/plots/2 (deflated 64%)\n",
            "  adding: content/report_result_GLS_کیفیت ادراک شده/plots/4 (deflated 80%)\n",
            "  adding: content/report_result_GLS_کیفیت ادراک شده/js/ (stored 0%)\n",
            "  adding: content/report_result_GLS_کیفیت ادراک شده/js/bootstrap.min.js (deflated 74%)\n",
            "  adding: content/report_result_GLS_کیفیت ادراک شده/css/ (stored 0%)\n",
            "  adding: content/report_result_GLS_کیفیت ادراک شده/css/bootstrap.min.css (deflated 85%)\n"
          ]
        },
        {
          "output_type": "display_data",
          "data": {
            "text/plain": [
              "<IPython.core.display.Javascript object>"
            ],
            "application/javascript": [
              "\n",
              "    async function download(id, filename, size) {\n",
              "      if (!google.colab.kernel.accessAllowed) {\n",
              "        return;\n",
              "      }\n",
              "      const div = document.createElement('div');\n",
              "      const label = document.createElement('label');\n",
              "      label.textContent = `Downloading \"${filename}\": `;\n",
              "      div.appendChild(label);\n",
              "      const progress = document.createElement('progress');\n",
              "      progress.max = size;\n",
              "      div.appendChild(progress);\n",
              "      document.body.appendChild(div);\n",
              "\n",
              "      const buffers = [];\n",
              "      let downloaded = 0;\n",
              "\n",
              "      const channel = await google.colab.kernel.comms.open(id);\n",
              "      // Send a message to notify the kernel that we're ready.\n",
              "      channel.send({})\n",
              "\n",
              "      for await (const message of channel.messages) {\n",
              "        // Send a message to notify the kernel that we're ready.\n",
              "        channel.send({})\n",
              "        if (message.buffers) {\n",
              "          for (const buffer of message.buffers) {\n",
              "            buffers.push(buffer);\n",
              "            downloaded += buffer.byteLength;\n",
              "            progress.value = downloaded;\n",
              "          }\n",
              "        }\n",
              "      }\n",
              "      const blob = new Blob(buffers, {type: 'application/binary'});\n",
              "      const a = document.createElement('a');\n",
              "      a.href = window.URL.createObjectURL(blob);\n",
              "      a.download = filename;\n",
              "      div.appendChild(a);\n",
              "      a.click();\n",
              "      div.remove();\n",
              "    }\n",
              "  "
            ]
          },
          "metadata": {}
        },
        {
          "output_type": "display_data",
          "data": {
            "text/plain": [
              "<IPython.core.display.Javascript object>"
            ],
            "application/javascript": [
              "download(\"download_6debe7d4-8e27-4bca-bb5c-7f00cf3162f6\", \"report_result_GLS_\\u06a9\\u06cc\\u0641\\u06cc\\u062a \\u0627\\u062f\\u0631\\u0627\\u06a9 \\u0634\\u062f\\u0647.zip\", 424137)"
            ]
          },
          "metadata": {}
        },
        {
          "output_type": "stream",
          "name": "stderr",
          "text": [
            "WARNING:root:Fisher Information Matrix is not PD.Moore-Penrose inverse will be used instead of Cholesky decomposition. See 10.1109/TSP.2012.2208105.\n"
          ]
        },
        {
          "output_type": "stream",
          "name": "stdout",
          "text": [
            "Name of objective: GLS\n",
            "Optimization method: SLSQP\n",
            "Optimization successful.\n",
            "Optimization terminated successfully\n",
            "Objective value: 0.668\n",
            "Number of iterations: 61\n",
            "Params: 1.204 0.583 0.970 0.947 1.771 0.484 0.339 0.488 0.466 0.411 0.459 0.276 0.268 0.362 0.727 0.364 1.003 0.728 0.707 0.270 0.363 0.598 0.313 0.492 0.377 0.705 0.582 1.155 0.645 0.418 0.569 0.507 0.563 0.449 0.596 0.291 0.541 0.888 0.866 0.625 0.499 0.637 0.349 0.734 0.786 0.705 0.800 0.650 0.412 0.245 0.369 0.367 0.324 0.350 0.354\n"
          ]
        },
        {
          "output_type": "stream",
          "name": "stderr",
          "text": [
            "WARNING:root:Fisher Information Matrix is not PD.Moore-Penrose inverse will be used instead of Cholesky decomposition. See 10.1109/TSP.2012.2208105.\n"
          ]
        },
        {
          "output_type": "display_data",
          "data": {
            "text/plain": [
              "<IPython.core.display.Javascript object>"
            ],
            "application/javascript": [
              "\n",
              "    async function download(id, filename, size) {\n",
              "      if (!google.colab.kernel.accessAllowed) {\n",
              "        return;\n",
              "      }\n",
              "      const div = document.createElement('div');\n",
              "      const label = document.createElement('label');\n",
              "      label.textContent = `Downloading \"${filename}\": `;\n",
              "      div.appendChild(label);\n",
              "      const progress = document.createElement('progress');\n",
              "      progress.max = size;\n",
              "      div.appendChild(progress);\n",
              "      document.body.appendChild(div);\n",
              "\n",
              "      const buffers = [];\n",
              "      let downloaded = 0;\n",
              "\n",
              "      const channel = await google.colab.kernel.comms.open(id);\n",
              "      // Send a message to notify the kernel that we're ready.\n",
              "      channel.send({})\n",
              "\n",
              "      for await (const message of channel.messages) {\n",
              "        // Send a message to notify the kernel that we're ready.\n",
              "        channel.send({})\n",
              "        if (message.buffers) {\n",
              "          for (const buffer of message.buffers) {\n",
              "            buffers.push(buffer);\n",
              "            downloaded += buffer.byteLength;\n",
              "            progress.value = downloaded;\n",
              "          }\n",
              "        }\n",
              "      }\n",
              "      const blob = new Blob(buffers, {type: 'application/binary'});\n",
              "      const a = document.createElement('a');\n",
              "      a.href = window.URL.createObjectURL(blob);\n",
              "      a.download = filename;\n",
              "      div.appendChild(a);\n",
              "      a.click();\n",
              "      div.remove();\n",
              "    }\n",
              "  "
            ]
          },
          "metadata": {}
        },
        {
          "output_type": "display_data",
          "data": {
            "text/plain": [
              "<IPython.core.display.Javascript object>"
            ],
            "application/javascript": [
              "download(\"download_271e593e-7cef-4e6f-96b8-6cb1f8c4863d\", \"result_GLS_\\u0627\\u062f\\u0631\\u0627\\u06a9 \\u0627\\u062d\\u0633\\u0627\\u0633\\u06cc.png\", 220421)"
            ]
          },
          "metadata": {}
        },
        {
          "output_type": "stream",
          "name": "stderr",
          "text": [
            "WARNING:root:Fisher Information Matrix is not PD.Moore-Penrose inverse will be used instead of Cholesky decomposition. See 10.1109/TSP.2012.2208105.\n",
            "WARNING:root:Fisher Information Matrix is not PD.Moore-Penrose inverse will be used instead of Cholesky decomposition. See 10.1109/TSP.2012.2208105.\n",
            "WARNING:root:Fisher Information Matrix is not PD.Moore-Penrose inverse will be used instead of Cholesky decomposition. See 10.1109/TSP.2012.2208105.\n",
            "WARNING:root:Fisher Information Matrix is not PD.Moore-Penrose inverse will be used instead of Cholesky decomposition. See 10.1109/TSP.2012.2208105.\n",
            "WARNING:root:Fisher Information Matrix is not PD.Moore-Penrose inverse will be used instead of Cholesky decomposition. See 10.1109/TSP.2012.2208105.\n"
          ]
        },
        {
          "output_type": "stream",
          "name": "stdout",
          "text": [
            "  adding: content/report_result_GLS_ادراک احساسی/ (stored 0%)\n",
            "  adding: content/report_result_GLS_ادراک احساسی/report.html (deflated 91%)\n",
            "  adding: content/report_result_GLS_ادراک احساسی/plots/ (stored 0%)\n",
            "  adding: content/report_result_GLS_ادراک احساسی/plots/2.png (deflated 8%)\n",
            "  adding: content/report_result_GLS_ادراک احساسی/plots/3.png (deflated 10%)\n",
            "  adding: content/report_result_GLS_ادراک احساسی/plots/4.png (deflated 11%)\n",
            "  adding: content/report_result_GLS_ادراک احساسی/plots/1.png (deflated 9%)\n",
            "  adding: content/report_result_GLS_ادراک احساسی/plots/1 (deflated 64%)\n",
            "  adding: content/report_result_GLS_ادراک احساسی/plots/3 (deflated 81%)\n",
            "  adding: content/report_result_GLS_ادراک احساسی/plots/2 (deflated 64%)\n",
            "  adding: content/report_result_GLS_ادراک احساسی/plots/4 (deflated 80%)\n",
            "  adding: content/report_result_GLS_ادراک احساسی/js/ (stored 0%)\n",
            "  adding: content/report_result_GLS_ادراک احساسی/js/bootstrap.min.js (deflated 74%)\n",
            "  adding: content/report_result_GLS_ادراک احساسی/css/ (stored 0%)\n",
            "  adding: content/report_result_GLS_ادراک احساسی/css/bootstrap.min.css (deflated 85%)\n"
          ]
        },
        {
          "output_type": "display_data",
          "data": {
            "text/plain": [
              "<IPython.core.display.Javascript object>"
            ],
            "application/javascript": [
              "\n",
              "    async function download(id, filename, size) {\n",
              "      if (!google.colab.kernel.accessAllowed) {\n",
              "        return;\n",
              "      }\n",
              "      const div = document.createElement('div');\n",
              "      const label = document.createElement('label');\n",
              "      label.textContent = `Downloading \"${filename}\": `;\n",
              "      div.appendChild(label);\n",
              "      const progress = document.createElement('progress');\n",
              "      progress.max = size;\n",
              "      div.appendChild(progress);\n",
              "      document.body.appendChild(div);\n",
              "\n",
              "      const buffers = [];\n",
              "      let downloaded = 0;\n",
              "\n",
              "      const channel = await google.colab.kernel.comms.open(id);\n",
              "      // Send a message to notify the kernel that we're ready.\n",
              "      channel.send({})\n",
              "\n",
              "      for await (const message of channel.messages) {\n",
              "        // Send a message to notify the kernel that we're ready.\n",
              "        channel.send({})\n",
              "        if (message.buffers) {\n",
              "          for (const buffer of message.buffers) {\n",
              "            buffers.push(buffer);\n",
              "            downloaded += buffer.byteLength;\n",
              "            progress.value = downloaded;\n",
              "          }\n",
              "        }\n",
              "      }\n",
              "      const blob = new Blob(buffers, {type: 'application/binary'});\n",
              "      const a = document.createElement('a');\n",
              "      a.href = window.URL.createObjectURL(blob);\n",
              "      a.download = filename;\n",
              "      div.appendChild(a);\n",
              "      a.click();\n",
              "      div.remove();\n",
              "    }\n",
              "  "
            ]
          },
          "metadata": {}
        },
        {
          "output_type": "display_data",
          "data": {
            "text/plain": [
              "<IPython.core.display.Javascript object>"
            ],
            "application/javascript": [
              "download(\"download_931b39ae-1174-4739-a2db-da02047624cc\", \"report_result_GLS_\\u0627\\u062f\\u0631\\u0627\\u06a9 \\u0627\\u062d\\u0633\\u0627\\u0633\\u06cc.zip\", 418890)"
            ]
          },
          "metadata": {}
        },
        {
          "output_type": "stream",
          "name": "stderr",
          "text": [
            "WARNING:root:Fisher Information Matrix is not PD.Moore-Penrose inverse will be used instead of Cholesky decomposition. See 10.1109/TSP.2012.2208105.\n",
            "WARNING:root:Fisher Information Matrix is not PD.Moore-Penrose inverse will be used instead of Cholesky decomposition. See 10.1109/TSP.2012.2208105.\n"
          ]
        },
        {
          "output_type": "stream",
          "name": "stdout",
          "text": [
            "Name of objective: GLS\n",
            "Optimization method: SLSQP\n",
            "Optimization successful.\n",
            "Optimization terminated successfully\n",
            "Objective value: 0.627\n",
            "Number of iterations: 88\n",
            "Params: 1.236 0.566 1.008 0.923 2.334 0.396 0.257 0.413 0.375 0.288 0.358 0.184 0.206 0.329 0.729 0.363 1.046 0.756 0.753 0.270 0.363 0.521 0.296 0.517 0.388 0.707 0.562 1.173 0.623 0.399 0.562 0.501 0.557 0.428 0.584 0.310 0.551 0.922 0.887 0.581 0.412 0.482 0.627 0.345 0.731 0.801 0.716 0.818 0.644 0.435 0.281 0.437 0.435 0.432 0.156\n"
          ]
        },
        {
          "output_type": "display_data",
          "data": {
            "text/plain": [
              "<IPython.core.display.Javascript object>"
            ],
            "application/javascript": [
              "\n",
              "    async function download(id, filename, size) {\n",
              "      if (!google.colab.kernel.accessAllowed) {\n",
              "        return;\n",
              "      }\n",
              "      const div = document.createElement('div');\n",
              "      const label = document.createElement('label');\n",
              "      label.textContent = `Downloading \"${filename}\": `;\n",
              "      div.appendChild(label);\n",
              "      const progress = document.createElement('progress');\n",
              "      progress.max = size;\n",
              "      div.appendChild(progress);\n",
              "      document.body.appendChild(div);\n",
              "\n",
              "      const buffers = [];\n",
              "      let downloaded = 0;\n",
              "\n",
              "      const channel = await google.colab.kernel.comms.open(id);\n",
              "      // Send a message to notify the kernel that we're ready.\n",
              "      channel.send({})\n",
              "\n",
              "      for await (const message of channel.messages) {\n",
              "        // Send a message to notify the kernel that we're ready.\n",
              "        channel.send({})\n",
              "        if (message.buffers) {\n",
              "          for (const buffer of message.buffers) {\n",
              "            buffers.push(buffer);\n",
              "            downloaded += buffer.byteLength;\n",
              "            progress.value = downloaded;\n",
              "          }\n",
              "        }\n",
              "      }\n",
              "      const blob = new Blob(buffers, {type: 'application/binary'});\n",
              "      const a = document.createElement('a');\n",
              "      a.href = window.URL.createObjectURL(blob);\n",
              "      a.download = filename;\n",
              "      div.appendChild(a);\n",
              "      a.click();\n",
              "      div.remove();\n",
              "    }\n",
              "  "
            ]
          },
          "metadata": {}
        },
        {
          "output_type": "display_data",
          "data": {
            "text/plain": [
              "<IPython.core.display.Javascript object>"
            ],
            "application/javascript": [
              "download(\"download_760d4107-c39a-4aa6-a600-85b770a953ac\", \"result_GLS_\\u0642\\u06cc\\u0645\\u062a.png\", 226429)"
            ]
          },
          "metadata": {}
        },
        {
          "output_type": "stream",
          "name": "stderr",
          "text": [
            "WARNING:root:Fisher Information Matrix is not PD.Moore-Penrose inverse will be used instead of Cholesky decomposition. See 10.1109/TSP.2012.2208105.\n",
            "WARNING:root:Fisher Information Matrix is not PD.Moore-Penrose inverse will be used instead of Cholesky decomposition. See 10.1109/TSP.2012.2208105.\n",
            "WARNING:root:Fisher Information Matrix is not PD.Moore-Penrose inverse will be used instead of Cholesky decomposition. See 10.1109/TSP.2012.2208105.\n",
            "WARNING:root:Fisher Information Matrix is not PD.Moore-Penrose inverse will be used instead of Cholesky decomposition. See 10.1109/TSP.2012.2208105.\n",
            "WARNING:root:Fisher Information Matrix is not PD.Moore-Penrose inverse will be used instead of Cholesky decomposition. See 10.1109/TSP.2012.2208105.\n"
          ]
        },
        {
          "output_type": "stream",
          "name": "stdout",
          "text": [
            "  adding: content/report_result_GLS_قیمت/ (stored 0%)\n",
            "  adding: content/report_result_GLS_قیمت/report.html (deflated 91%)\n",
            "  adding: content/report_result_GLS_قیمت/plots/ (stored 0%)\n",
            "  adding: content/report_result_GLS_قیمت/plots/2.png (deflated 7%)\n",
            "  adding: content/report_result_GLS_قیمت/plots/3.png (deflated 10%)\n",
            "  adding: content/report_result_GLS_قیمت/plots/4.png (deflated 12%)\n",
            "  adding: content/report_result_GLS_قیمت/plots/1.png (deflated 8%)\n",
            "  adding: content/report_result_GLS_قیمت/plots/1 (deflated 64%)\n",
            "  adding: content/report_result_GLS_قیمت/plots/3 (deflated 81%)\n",
            "  adding: content/report_result_GLS_قیمت/plots/2 (deflated 64%)\n",
            "  adding: content/report_result_GLS_قیمت/plots/4 (deflated 80%)\n",
            "  adding: content/report_result_GLS_قیمت/js/ (stored 0%)\n",
            "  adding: content/report_result_GLS_قیمت/js/bootstrap.min.js (deflated 74%)\n",
            "  adding: content/report_result_GLS_قیمت/css/ (stored 0%)\n",
            "  adding: content/report_result_GLS_قیمت/css/bootstrap.min.css (deflated 85%)\n"
          ]
        },
        {
          "output_type": "display_data",
          "data": {
            "text/plain": [
              "<IPython.core.display.Javascript object>"
            ],
            "application/javascript": [
              "\n",
              "    async function download(id, filename, size) {\n",
              "      if (!google.colab.kernel.accessAllowed) {\n",
              "        return;\n",
              "      }\n",
              "      const div = document.createElement('div');\n",
              "      const label = document.createElement('label');\n",
              "      label.textContent = `Downloading \"${filename}\": `;\n",
              "      div.appendChild(label);\n",
              "      const progress = document.createElement('progress');\n",
              "      progress.max = size;\n",
              "      div.appendChild(progress);\n",
              "      document.body.appendChild(div);\n",
              "\n",
              "      const buffers = [];\n",
              "      let downloaded = 0;\n",
              "\n",
              "      const channel = await google.colab.kernel.comms.open(id);\n",
              "      // Send a message to notify the kernel that we're ready.\n",
              "      channel.send({})\n",
              "\n",
              "      for await (const message of channel.messages) {\n",
              "        // Send a message to notify the kernel that we're ready.\n",
              "        channel.send({})\n",
              "        if (message.buffers) {\n",
              "          for (const buffer of message.buffers) {\n",
              "            buffers.push(buffer);\n",
              "            downloaded += buffer.byteLength;\n",
              "            progress.value = downloaded;\n",
              "          }\n",
              "        }\n",
              "      }\n",
              "      const blob = new Blob(buffers, {type: 'application/binary'});\n",
              "      const a = document.createElement('a');\n",
              "      a.href = window.URL.createObjectURL(blob);\n",
              "      a.download = filename;\n",
              "      div.appendChild(a);\n",
              "      a.click();\n",
              "      div.remove();\n",
              "    }\n",
              "  "
            ]
          },
          "metadata": {}
        },
        {
          "output_type": "display_data",
          "data": {
            "text/plain": [
              "<IPython.core.display.Javascript object>"
            ],
            "application/javascript": [
              "download(\"download_f6d9b118-dd83-49d2-b3c9-47664da3399c\", \"report_result_GLS_\\u0642\\u06cc\\u0645\\u062a.zip\", 427123)"
            ]
          },
          "metadata": {}
        },
        {
          "output_type": "display_data",
          "data": {
            "text/plain": [
              "<IPython.core.display.Javascript object>"
            ],
            "application/javascript": [
              "\n",
              "    async function download(id, filename, size) {\n",
              "      if (!google.colab.kernel.accessAllowed) {\n",
              "        return;\n",
              "      }\n",
              "      const div = document.createElement('div');\n",
              "      const label = document.createElement('label');\n",
              "      label.textContent = `Downloading \"${filename}\": `;\n",
              "      div.appendChild(label);\n",
              "      const progress = document.createElement('progress');\n",
              "      progress.max = size;\n",
              "      div.appendChild(progress);\n",
              "      document.body.appendChild(div);\n",
              "\n",
              "      const buffers = [];\n",
              "      let downloaded = 0;\n",
              "\n",
              "      const channel = await google.colab.kernel.comms.open(id);\n",
              "      // Send a message to notify the kernel that we're ready.\n",
              "      channel.send({})\n",
              "\n",
              "      for await (const message of channel.messages) {\n",
              "        // Send a message to notify the kernel that we're ready.\n",
              "        channel.send({})\n",
              "        if (message.buffers) {\n",
              "          for (const buffer of message.buffers) {\n",
              "            buffers.push(buffer);\n",
              "            downloaded += buffer.byteLength;\n",
              "            progress.value = downloaded;\n",
              "          }\n",
              "        }\n",
              "      }\n",
              "      const blob = new Blob(buffers, {type: 'application/binary'});\n",
              "      const a = document.createElement('a');\n",
              "      a.href = window.URL.createObjectURL(blob);\n",
              "      a.download = filename;\n",
              "      div.appendChild(a);\n",
              "      a.click();\n",
              "      div.remove();\n",
              "    }\n",
              "  "
            ]
          },
          "metadata": {}
        },
        {
          "output_type": "display_data",
          "data": {
            "text/plain": [
              "<IPython.core.display.Javascript object>"
            ],
            "application/javascript": [
              "download(\"download_ad6b8e6e-0c9e-4521-9158-f2ff61a4dc6f\", \"result_GLS.xlsx\", 55258)"
            ]
          },
          "metadata": {}
        }
      ]
    },
    {
      "cell_type": "code",
      "source": [
        "model = semopy.ModelMeans(desc)\n",
        "model.fit(data)\n",
        "semopy.report(model, \"Snowa_Brand_Satisfaction_Survey\")\n",
        "!zip -r /content/Snowa_Brand_Satisfaction_Survey.zip /content/Snowa_Brand_Satisfaction_Survey\n",
        "files.download(\"/content/Snowa_Brand_Satisfaction_Survey.zip\")"
      ],
      "metadata": {
        "colab": {
          "base_uri": "https://localhost:8080/"
        },
        "id": "5zlseGEJpBhJ",
        "outputId": "4f18814e-a567-42ce-8a80-bcaf34627524"
      },
      "execution_count": null,
      "outputs": [
        {
          "output_type": "execute_result",
          "data": {
            "text/plain": [
              "SolverResult(fun=2733.315017901703, success=True, n_it=2889, x=array([ 1.25929764e+00,  5.82908691e-01, -9.64732871e+02,  9.35238685e-01,\n",
              "        3.57985287e+00,  3.46437331e+00,  3.33169533e+00,  3.10565125e+00,\n",
              "        3.37837859e+00,  3.35626562e+00,  2.70761666e+00,  2.96068781e+00,\n",
              "        3.42260466e+00,  3.95331728e+00,  3.74201492e+00,  3.33660953e+00,\n",
              "        3.50368593e+00,  1.68419450e+02, -1.65287725e+02, -1.34451466e+02,\n",
              "        1.28246350e+02, -9.98700447e+01,  2.47631532e+00,  4.30448409e+02,\n",
              "        4.18377015e+01,  6.96235447e-01,  8.56401003e-01,  3.75957246e-01,\n",
              "        5.39444738e-01,  8.05238100e-01,  6.69781729e-01,  2.94692256e-01,\n",
              "        3.99990370e-01,  1.87489021e-01,  7.07412009e-01,  3.32624320e-01,\n",
              "        4.40886401e-01,  7.83401438e-01,  6.64769554e-01,  5.55110168e-01,\n",
              "       -4.30943970e-04,  3.95491684e-01,  1.14193671e+00,  9.52082662e-01,\n",
              "        5.10516582e-01,  5.31125499e-01, -3.44659531e-04,  4.56106781e-01,\n",
              "        1.19128286e+00,  5.43354718e-01,  9.07291266e-01,  6.09562238e-01,\n",
              "       -4.34501044e-04,  3.02151790e-01,  5.80443410e-01,  6.01461311e-01,\n",
              "        4.07887155e-01, -5.34322606e-04,  7.00768920e-01,  7.89030489e-01,\n",
              "        5.78933749e-01,  6.92926444e-01,  8.01904395e-01,  6.44482361e-01,\n",
              "       -4.56347668e-04,  4.00542864e-01,  5.84468508e-25, -2.71643994e-04,\n",
              "        7.15311387e-01,  3.41106278e-01,  2.59334502e-01,  3.27646331e-01,\n",
              "        3.96534668e-01, -3.71665140e-04,  5.29243671e+00]), message='Optimization terminated successfully', name_method='SLSQP', name_obj='FIML')"
            ]
          },
          "metadata": {},
          "execution_count": 18
        }
      ]
    }
  ],
  "metadata": {
    "colab": {
      "name": "colab-tutorial.ipynb",
      "provenance": []
    },
    "kernelspec": {
      "display_name": "Python 3",
      "language": "python",
      "name": "python3"
    },
    "language_info": {
      "codemirror_mode": {
        "name": "ipython",
        "version": 3
      },
      "file_extension": ".py",
      "mimetype": "text/x-python",
      "name": "python",
      "nbconvert_exporter": "python",
      "pygments_lexer": "ipython3",
      "version": "3.7.6"
    }
  },
  "nbformat": 4,
  "nbformat_minor": 0
}